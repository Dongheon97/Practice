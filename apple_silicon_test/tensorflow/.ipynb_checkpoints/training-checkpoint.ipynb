{
 "cells": [
  {
   "cell_type": "markdown",
   "metadata": {
    "id": "6-ZKPeDM4Nzj"
   },
   "source": [
    "## 데이터 추출\n",
    "\n",
    "1. Export from RoboFlow\n",
    "2. Tensorflow TFRecord\n",
    "3. modify !curl -L \"\" \n",
    "\n",
    "To train a TensorFlow2 Object Detection Model, we need TFRecord and label_map files. Roboflow creates these files for us!\n",
    "\n",
    "Because we need one TFRecord file for our training data, and one TFRecord file for our test data, we'll split the dataset into \"train\" and \"test\".\n",
    "\n",
    "To create a dataset in Roboflow and generate TFRecords, follow [this step-by-step guide](https://blog.roboflow.ai/getting-started-with-roboflow/). On export, select \"Tensorflow TFRecord\" for the first link and \"COCO JSON\" as the second link below."
   ]
  },
  {
   "cell_type": "markdown",
   "metadata": {
    "id": "PkUdQoYS4c4B"
   },
   "source": [
    "![](https://i.imgur.com/ZwMdcbY.png)"
   ]
  },
  {
   "cell_type": "code",
   "execution_count": 1,
   "metadata": {
    "colab": {
     "base_uri": "https://localhost:8080/"
    },
    "id": "vCoazIkG4RD6",
    "outputId": "fcebeabd-56ad-4322-b76a-4a296a8cf605"
   },
   "outputs": [
    {
     "name": "stdout",
     "output_type": "stream",
     "text": [
      "mkdir: /train/: Read-only file system\n",
      "[Errno 2] No such file or directory: '/train/'\n",
      "/Users/dongheon97/dev/Practice/apple_silicon_test/tensorflow\n",
      "  % Total    % Received % Xferd  Average Speed   Time    Time     Time  Current\n",
      "                                 Dload  Upload   Total   Spent    Left  Speed\n",
      "100   891  100   891    0     0   1664      0 --:--:-- --:--:-- --:--:--  1681\n",
      "100 4331k  100 4331k    0     0  2009k      0  0:00:02  0:00:02 --:--:-- 3123k\n",
      "Archive:  roboflow.zip\n",
      " extracting: README.roboflow.txt     \n",
      "   creating: test/\n",
      " extracting: test/tflite.tfrecord    \n",
      " extracting: test/tflite_label_map.pbtxt  \n",
      "   creating: train/\n",
      " extracting: train/tflite.tfrecord   \n",
      " extracting: train/tflite_label_map.pbtxt  \n"
     ]
    }
   ],
   "source": [
    "#Main Training and Test Set\n",
    "\n",
    "#Downloading data from Roboflow\n",
    "#UPDATE THIS LINK - get our data from Roboflow\n",
    "#%mkdir /content/train/\n",
    "%mkdir /train/\n",
    "\n",
    "#%cd /content/train/\n",
    "%cd /train/\n",
    "\n",
    "!curl -L \"https://app.roboflow.com/ds/KVA9WXlxBe?key=ThDjY0nhWk\" > roboflow.zip; unzip roboflow.zip; rm roboflow.zip\n",
    "!mv README.roboflow.txt roboflow.txt"
   ]
  },
  {
   "cell_type": "code",
   "execution_count": 2,
   "metadata": {
    "colab": {
     "base_uri": "https://localhost:8080/"
    },
    "id": "fpKHmRyoGoYY",
    "outputId": "451cc5bb-0724-423d-a09d-8bd836f6d482"
   },
   "outputs": [
    {
     "name": "stdout",
     "output_type": "stream",
     "text": [
      "mkdir: /test/: Read-only file system\n",
      "[Errno 2] No such file or directory: '/test/'\n",
      "/Users/dongheon97/dev/Practice/apple_silicon_test/tensorflow\n",
      "  % Total    % Received % Xferd  Average Speed   Time    Time     Time  Current\n",
      "                                 Dload  Upload   Total   Spent    Left  Speed\n",
      "100   887  100   887    0     0   1674      0 --:--:-- --:--:-- --:--:--  1695\n",
      "100 4876k  100 4876k    0     0  2145k      0  0:00:02  0:00:02 --:--:-- 3790k\n",
      "Archive:  roboflow.zip\n",
      " extracting: README.roboflow.txt     \n",
      " extracting: test/10-99204e4c5c976eb411_jpg.rf.003f52e10a98c480335dd165240a1435.jpg  \n",
      " extracting: test/13-hwo5f50a3533c948_png.rf.255fc70bdfde00234dd5c18daa71a678.jpg  \n",
      " extracting: test/18-1416c11e4cc5a0a249_jpg.rf.a626f3a7199df29c662b5116e194a1e4.jpg  \n",
      " extracting: test/19-169662871212acb01_jpg.rf.14fa192b5ad748b0478ea803775095a1.jpg  \n",
      " extracting: test/19-169662872f02acb01_jpg.rf.8d2afcab5bd64a470ed95e389fc3f140.jpg  \n",
      " extracting: test/19-20150803140503_4_special15_jpg.rf.5054e4e38b7af0de58ff1ab3556c3f08.jpg  \n",
      " extracting: test/2-punctum_96690_16-1----------_jpg.rf.3605d916adee54b74a405712e54a8f56.jpg  \n",
      " extracting: test/20-179264ab355120c15_jpg.rf.22afded172cb14f1cf7c0802701dec28.jpg  \n",
      " extracting: test/25-30192819515_60200010_jpg.rf.6cfb0c79239dc9184e76e307e8509eef.jpg  \n",
      " extracting: test/37-77fe2138df16550496588e80b38451df_jpg.rf.549f3c815a561cb4dc3b1325bf6245dd.jpg  \n",
      " extracting: test/40-_b8_f1_b5_bf_bd_c7_c5_ba_bb_e7_b0_dd_c0_e5__2818_29_jpg.rf.268fff956239ef4ac3e2c7edd9ac2886.jpg  \n",
      " extracting: test/43-i13427859016_jpg.rf.36884d52551d700c4d06aafb7a78d3ad.jpg  \n",
      " extracting: test/44-204571939_jpg.rf.567c2169338158475f03225371ff2788.jpg  \n",
      " extracting: test/5-scan0001_chu2_1_jpg.rf.802f52b94daf4670ae1480efbc0e05c6.jpg  \n",
      " extracting: test/50-bulls-eye-target-bullet-holes-15932686_jpg.rf.65ef91fd506b47b27c778c9fe8db6b1c.jpg  \n",
      " extracting: test/60-maxresdefault_jpg.rf.3eaed58abb345619c0ca75d4360cd140.jpg  \n",
      " extracting: test/63-bullet-holes-around-bullseye-of-shooting-target-picture-id200560263-001_jpg.rf.26f7aa7bb1df3c00323ddbe8c0842aaa.jpg  \n",
      " extracting: test/68-rifle-target-picture-idsp003798_jpg.rf.b7c19fe2eca62db9200869c9af7c52a4.jpg  \n",
      " extracting: test/70-istock-853736050_crop_jpg.rf.6348ecdf1ae0878d6c07ce785ed68fac.jpg  \n",
      " extracting: test/72-1526610000_gxjfp4lo_511021c7-9159-4625-8b95-4ceff9f2d3a1_jpeg.rf.a54076cd30862e493188cfd6ba3a9068.jpg  \n",
      " extracting: test/74-a0001881_11461477_jpg.rf.51e44a8674b0cbd08970ac97c204f307.jpg  \n",
      " extracting: test/74-realistic-shooting-targets-set-bullet-holes-target-realistic-set-blank-background-isolated-images-gunnery-training-190351004_jpg.rf.1c58a1e359733812cb6255ed0b5b864b.jpg  \n",
      " extracting: test/80-20190530070310-235798_jpeg.rf.98341a50acbfb7e11e85c196f3ea410a.jpg  \n",
      " extracting: test/IMG_0030_jpg.rf.8490e3c2ed198a77eb13ce9858f64bd3.jpg  \n",
      " extracting: test/IMG_0032_jpg.rf.305e5a3fd90927d4459dc6674070fd4d.jpg  \n",
      " extracting: test/IMG_0034_jpg.rf.e0ee8259a18dcc5a1d37a5569dec6dfc.jpg  \n",
      " extracting: test/IMG_0038_jpg.rf.7eef660c14fcbd89e16d218b0e19a591.jpg  \n",
      " extracting: test/IMG_0039_jpg.rf.45351fe091fb356d6485c373fc6309cd.jpg  \n",
      " extracting: test/IMG_0042_jpg.rf.588323bc4c9abe6cba164b6652ff4b0e.jpg  \n",
      " extracting: test/IMG_0046_jpg.rf.7f2ad59d6c34f4350db7560e58967a68.jpg  \n",
      " extracting: test/IMG_0055_jpeg.rf.9c2938b831edabede848cd827a4bb99d.jpg  \n",
      " extracting: test/IMG_0067_jpeg.rf.5940de1e4ea7ceb37ba0ac575edecc92.jpg  \n",
      " extracting: test/_annotations.coco.json  \n",
      " extracting: train/1-a7bc57ed6a23f_jpg.rf.38f82d2d353dddad904471e90532581c.jpg  \n",
      " extracting: train/10-44f8d40b133615e859e18b1e48a10040_jpg.rf.fb5865f7ab1dc510e046edaf75f8f3d6.jpg  \n",
      " extracting: train/10-shot1_jpeg.rf.71d163d2ed9bf4c83590bf4e96b5218d.jpg  \n",
      " extracting: train/10-target-shooting-260nw-497030500_jpg.rf.0c94d52f144e3927b8f93c561fe4f09d.jpg  \n",
      " extracting: train/11-1348d41a4ad936f126_jpg.rf.3db7463013a7928f44ad7a025da73e9d.jpg  \n",
      " extracting: train/11-99b983892094b5c6d2fc3736e15da7d1_jpg.rf.f9a4a61324cd2a57ef97973e05930e50.jpg  \n",
      " extracting: train/11-naverblog_20140919_195026_05_jpg.rf.9fcb3447c1785fc5c9f1301b3060ebde.jpg  \n",
      " extracting: train/12-1621d2124cc5a0f472_jpg.rf.30dd1f6be9ff58edcbd35e1d20b3f8ae.jpg  \n",
      " extracting: train/12-human-target-with-bullet-holes-picture-id525543017_jpg.rf.65ec71faa7393187c0efaadc8e71878d.jpg  \n",
      " extracting: train/13-camdx_jpg.rf.3248e34976fcc284f9c1f17e4852553c.jpg  \n",
      " extracting: train/14-1433227700_jpg.rf.3e452943ea01f92aea041d4febcbb68e.jpg  \n",
      " extracting: train/14-shot2_jpeg.rf.c114c8de1968fdab24b6d57a6e568bae.jpg  \n",
      " extracting: train/15-501c78a14336bf600cfe3f80d53ef604_jpg.rf.635d8b1fdaf474ab3fb1acba992c38da.jpg  \n",
      " extracting: train/16-bb55168bcabd59a2eaa33b7128fd3fbf_jpg.rf.2d86697da20e18b6da26098d1783f550.jpg  \n",
      " extracting: train/16-e16838b9b5e66080af1425311745cd73_jpg.rf.83640990d84a6399fbe03c876aa32132.jpg  \n",
      " extracting: train/18-1912_59_png.rf.2ac3f9a33a6fd19026063187bd1c4b8a.jpg  \n",
      " extracting: train/18-depositphotos_146839599-stock-illustration-shooting-range-target-shot-of_jpg.rf.636aefd3a36a94907d46c1e2b74c91b4.jpg  \n",
      " extracting: train/18-untitled-11_jpg.rf.b191d16ff8eb4407f8e326ecb564df65.jpg  \n",
      " extracting: train/19-air_rifle_4_jpg.rf.3026d6494d10034bc923aceb87ddb472.jpg  \n",
      " extracting: train/20-d1024_99_160_1200_jpg.rf.2a62ac8016c5174a5fc1cf9b809812dc.jpg  \n",
      " extracting: train/20-image_3423659541529046498887_jpg.rf.6de1390f494b4f508b451dc6f73b62ac.jpg  \n",
      " extracting: train/20-vector-paper-rifle-target-bullet-260nw-37554364_jpg.rf.018e92210b4c28b8ca823abb43f09086.jpg  \n",
      " extracting: train/21-asas1537454898_jpg.rf.127a3229c940cc7b4b453a76cf3cd5ed.jpg  \n",
      " extracting: train/21-bulls-eye-target-bullet-holes-15932686_jpg.rf.e0973e7f777b8517952d495ca1f750d3.jpg  \n",
      " extracting: train/21-img_6422_jpg.rf.6bacbafb6b19a937269f7badcb4be9f2.jpg  \n",
      " extracting: train/22-i15319908797_jpg.rf.ba91fc6c8c47121231efab030ff06bd3.jpg  \n",
      " extracting: train/23-_ec_98_81_ec_a0_90_ec_82_ac_ea_b2_a9-_ed_91_9c_ec_a0_81_ec_a7_80-scaled_jpg.rf.9924f8f197b46ceda45484f941d5bc6b.jpg  \n",
      " extracting: train/23-i13467882657-png_jpg.rf.dc675a011a0bc486999e2674846322c1.jpg  \n",
      " extracting: train/24-depositphotos_106716882-stock-photo-five-bullet-holes-in-a_jpg.rf.f7badd6b13a40af00dc00a0450888ceb.jpg  \n",
      " extracting: train/25-2115f73b533b8e6c19_jpg.rf.3c5462a397e4776fe2dddf6f8c5afa99.jpg  \n",
      " extracting: train/26-988113957_gmuuwjx2_22367b55d839aab1d1215fc78735a041560a691c_jpg.rf.afc23293e0ceb6f832e619859a5a4a37.jpg  \n",
      " extracting: train/26-used-shooting-target-traces-hit-bullets-ammunition-concept-weapon-lobby-hits-right-192631965_jpg.rf.317a9de31a17d9b7b1d5afc99deeb0ec.jpg  \n",
      " extracting: train/27-osodh3ks7qfz9z9rjh2zvzndrpw-fw_e5e7-w87vdydy5bex8nbwag0n07phtylsptoerkukhgd-p2oa38qshcrmmijxva91qm4y-w1400-k_jpg.rf.80e2f6f4039622a88804e468fb5000ff.jpg  \n",
      " extracting: train/3-07402376620191004b947c27d-da95-41b1-adf6-69797ba2f189_jpeg.rf.17ed475ba9fa9bbc031e5a56a318cbd1.jpg  \n",
      " extracting: train/30-egaxr37u8aattwp_jpg.rf.3727cc19d9bd6b8c88adee2e12135b7f.jpg  \n",
      " extracting: train/31-bullet-riddled-target-s0m3dk_jpg.rf.b47c27e470aec677f51226d259ae9cb6.jpg  \n",
      " extracting: train/31-ie001278543_std_jpg.rf.868cbbb61a873aa97fb3d1b92b691420.jpg  \n",
      " extracting: train/32-img_jpg.rf.be6dc170a712d26c17cd17fb57af6e91.jpg  \n",
      " extracting: train/34-20081211014159_1688_jpg.rf.456a6f926670ec56c84c298fc06ae51d.jpg  \n",
      " extracting: train/34-download-jsp_jpg.rf.72cdf53e6cd669207a4927cc648aaf76.jpg  \n",
      " extracting: train/35-997fdd435c01224613_jpg.rf.4f59c943225faef481248b6c9c644994.jpg  \n",
      " extracting: train/35-gun-target-bullets_jpg.rf.4875c6125075e77327910c3a181c98bb.jpg  \n",
      " extracting: train/35-i13147536259_jpg.rf.72b8680daefbb67f74762c80a8a8ce25.jpg  \n",
      " extracting: train/35-nwgbo_jpg.rf.ef83982484a6fac96cca2a2aa0b95d81.jpg  \n",
      " extracting: train/36-144498373318872_jpg.rf.3c4dad78107aa84795a45fcdb9d834c7.jpg  \n",
      " extracting: train/36-3077020652_452ca25d__ed_81_ac_ea_b8_b0_eb_b3_80_ed_99_98_20120212_151241_jpg.rf.62bcd3e96e125d8b95ae0025ada81247.jpg  \n",
      " extracting: train/37-9df8bdb308204aedb92_jpg.rf.8eb2ac87d19fb99df47d46ccaf29eea3.jpg  \n",
      " extracting: train/37-ballistics-calculator_jpg.rf.1d7056c0967604c3b71e59f57cb363c3.jpg  \n",
      " extracting: train/38-204572860_jpg.rf.2cd943cbfd3868ef1e432e58ed74e5dd.jpg  \n",
      " extracting: train/38-4ae40fd437f0b7089f034afea1be3e9d_jpg.rf.999f3b8fefa1316fa0e7af5c2adb5901.jpg  \n",
      " extracting: train/39-20140401223126_jpg.rf.9be2d9e3756d4a33dc44d9a33d313372.jpg  \n",
      " extracting: train/4-1265471784_hblqmwej_ec9881eca090ed919ceca081eca780_jpg.rf.8e081b7f5c803b12da9ce699400e5d80.jpg  \n",
      " extracting: train/40-4e5bd59a549239deea4706555ebb64c7_jpeg.rf.333afbce49bd724c64da966f2a9f7185.jpg  \n",
      " extracting: train/41-55cf09dcde9c4_jpg.rf.5d6dff39b3c2c777f3c141200d69437b.jpg  \n",
      " extracting: train/42-20170629192326_283384_jpg.rf.ea0c827762f8504d8bc34a5896dae484.jpg  \n",
      " extracting: train/45-157849901391079_jpg.rf.54833aa1fe7a0b7186c3685381f5fb60.jpg  \n",
      " extracting: train/45-shooting-sport-shooting-target-bullet-png-favpng-aasasddsnxtatavcmvkw4h0rv_jpg.rf.7cd6c3cb9cd0721e9d85e1eee72a3c5a.jpg  \n",
      " extracting: train/47-bullet-holes-target-realistic-composition-on-blank-background-with-isolated-images-of-paper-target-with-holes-vector-illustration-2fj2g4n_jpg.rf.41aba87b614042771af95996da3bf7bc.jpg  \n",
      " extracting: train/48-30090621140_69990010_jpg.rf.d7d3acc4adfcd1e3cc7c72f38daa31c7.jpg  \n",
      " extracting: train/48-naverblog_20141108_192827_02_jpg.rf.c402b2ef549c1bb293a349f2ff25a4ed.jpg  \n",
      " extracting: train/49-20110531-01200102000006-01l_jpg.rf.f3a69d7d166d8c3d61ed42bb2efde593.jpg  \n",
      " extracting: train/49-bullet-ridden-target_jpg.rf.df689133c38e989bf8b8da5465b7ea75.jpg  \n",
      " extracting: train/5-145294334e6e080225_jpg.rf.5cb389d7e1504890ef68251566b351b3.jpg  \n",
      " extracting: train/5-military-target-with-set-bullet-holes-vector-id855478272_jpg.rf.e87b857188ba00fa4a85b027a0bd90d8.jpg  \n",
      " extracting: train/50-2161f88500daa5ff8c633abedf1cc733_jpg.rf.cf1de79a0b9f80e40bf2415a7b0b405e.jpg  \n",
      " extracting: train/50-3c6b995f488fbdb0c9ca23d0684ceb38_png.rf.6d7b7d8a2a9d94f8dd1f05e6b7695295.jpg  \n",
      " extracting: train/50-902f56f3b4204e9a3cdc5084188e0d084632f0261b9600b3e4c50b71b4a8b7d4_jpg.rf.74e76e85da17f9c8a6979506800ed699.jpg  \n",
      " extracting: train/50-ssi_20181031132648_v_jpg.rf.ae37bea87aed53a5e147f8956985ead1.jpg  \n",
      " extracting: train/51-1296483446_p110131004_jpg.rf.78fc93c2779a985544e2e637012727a2.jpg  \n",
      " extracting: train/53-12345_jpg.rf.2fa370040f25522e798b32e851a23005.jpg  \n",
      " extracting: train/53-focused_178086946-stock-photo-close-view-paper-target-bullet_jpg.rf.73e43a57b35c8ebeb08167cffdb541c9.jpg  \n",
      " extracting: train/55-672c1fc4cbb4c_jpg.rf.3da3dd8e9ec0d9785defb0c2c5454ccb.jpg  \n",
      " extracting: train/56-sport-shooting-circle-target-accuracy-bullet-hole-picture-id898741100_jpg.rf.79b9f063bbf947c04f568e3ad58a98c2.jpg  \n",
      " extracting: train/57-areacm-ceaapqp6_jpg.rf.d25868078c459244518ee2e24a7c2869.jpg  \n",
      " extracting: train/61-220461502_jpg.rf.cf1430312455cb317e356cfeb6036442.jpg  \n",
      " extracting: train/61-da2a963027f9e80607d55891c8d05358_jpeg.rf.ced07700edc2083b28637e7690ee239c.jpg  \n",
      " extracting: train/61-depositphotos_39880029-stock-photo-sport-shooting-circle-target-accuracy_jpg.rf.df10a4db5e60fcc6fa244cc3fccdd066.jpg  \n",
      " extracting: train/62-8def3982628c4d9c0c5a72f5b5783dbc_jpg.rf.3b72b6026b50debc5e3a0a5ef4451869.jpg  \n",
      " extracting: train/64-6460507_jpg.rf.98d0c1746ecfa0037f68d6ccc8026f1c.jpg  \n",
      " extracting: train/65-img_jpg.rf.02f664830f26958ee4a85fe6387bde4c.jpg  \n",
      " extracting: train/66-5bcec72d1a09e_jpeg.rf.701f565541804e5f56eabdd97f898e29.jpg  \n",
      " extracting: train/67-imgfile_down-asp_jpg.rf.47853b0e7da2bec221e7877271b89b0f.jpg  \n",
      " extracting: train/68-e9337ec799b84017bc82b6d130afdf16_jpg.rf.6301150a53121218932bd0a12df5cc88.jpg  \n",
      " extracting: train/69-6_20proximity_20determinationshottest2_jpg.rf.9f1159ada1650e8801ad63ee80783f98.jpg  \n",
      " extracting: train/70-bc014489562baa441d6d822b68cdad5f_jpg.rf.260e8ae2b81860050a515590f6af8b4e.jpg  \n",
      " extracting: train/71-1324184534_20111218133622_jpg.rf.a94a51babdc055bfa52da63f7c73c5b5.jpg  \n",
      " extracting: train/75-shooting-target-and-bullseye-with-bullet-holes-picture-id482504711_jpg.rf.e82563e56191eb1356fbb155ce53acbc.jpg  \n",
      " extracting: train/76-20081211014159_3849_jpg.rf.cb1147b147abce247e92d7794c334fd0.jpg  \n",
      " extracting: train/76-4d0a0286d5fc2cf3fe509813ded4bb56_jpg.rf.06dd8f59d2faab34c0cc3104ca8803aa.jpg  \n",
      " extracting: train/76-practice-target-bullet-holes-14605844_jpg.rf.6d39cb7c0ed201a8e06dd05eb2973349.jpg  \n",
      " extracting: train/77-target_jpg.rf.ad9d8f9a58ec75009f1a4699d9e6cb15.jpg  \n",
      " extracting: train/78-be3bc9ea1956458e8bb21c4bee1c1265_png.rf.79fdb40cc6ab886ef3a39f82ffc700ac.jpg  \n",
      " extracting: train/79-fda038e2890e94e051e9064213b4f1a6f5d774e2dad611c6b54a41064f4c120c_jpg.rf.f9a753990528b7d3445c059b82d3e7dc.jpg  \n",
      " extracting: train/8-vector-paper-rifle-target-with-bullet-holes_jpg.rf.df4bdd038717ffddf3b440b8ce58c364.jpg  \n",
      " extracting: train/80-a-shooting-target-filled-with-bullet-holes-s308ny_jpg.rf.ff2f0d1889d03a8dd529d4aa603bac33.jpg  \n",
      " extracting: train/80-naverblog_20140919_195031_06_jpg.rf.9d22c459514c61e500911b78a6b6a20f.jpg  \n",
      " extracting: train/84-2733ab4c589085d807_jpg.rf.92e2900d3a48f32f3a3248ad8aaa6810.jpg  \n",
      " extracting: train/86-240dbe747cfa2b6ad7501858ba4bf47d_jpg.rf.f127a68b9ed62d29bfba7ac3e5ca4655.jpg  \n",
      " extracting: train/87-6bef3e91445aa00cf95adf5dab7f12fa_res_jpeg.rf.7e34c2e45e50994e870c9a1b50bf1e78.jpg  \n",
      " extracting: train/88-gun-firing-range-target-shaped-like-a-human-with-bullet-holes-in-the-eamxj9_jpg.rf.39b97ec05ed62f82351e59f198037e99.jpg  \n",
      " extracting: train/88-i16080601293-png_jpg.rf.d71e377f504691b78241eaa9fb49ce5a.jpg  \n",
      " extracting: train/89-dwhzt8wv4aelxtj_jpg.rf.837a7ae22523720b6ce6f78bc97271bc.jpg  \n",
      " extracting: train/92-paper-rifle-target-with-bullet-holes-vector-3063455_jpg.rf.ebfee3942ebd0b51de43adf46139059b.jpg  \n",
      " extracting: train/93-art_1634110737705_79cab5_jpg.rf.fab3550af30242040b1a8dd0dd067d5a.jpg  \n",
      " extracting: train/IMG_0029_jpg.rf.209d60502586c6bfab5b60a3da8aa30b.jpg  \n",
      " extracting: train/IMG_0031_jpg.rf.52f232a23e3c6458138f236a338b685d.jpg  \n",
      " extracting: train/IMG_0033_jpg.rf.943ec42c1b59049b3e0fbc05ebe08a65.jpg  \n",
      " extracting: train/IMG_0035_jpg.rf.f775c0f95d91511d77fe8372fe1e6343.jpg  \n",
      " extracting: train/IMG_0036_jpg.rf.c59ead036a86b1a7cc749ee0f85a6a4a.jpg  \n",
      " extracting: train/IMG_0037_jpg.rf.e7745a0c62af9bf6a35289feb9936ba3.jpg  \n",
      " extracting: train/IMG_0041_jpg.rf.3297557ae62af8f7a4c11511e2513419.jpg  \n",
      " extracting: train/IMG_0043_jpg.rf.0bac229076e61cd030c68598be7608ff.jpg  \n",
      " extracting: train/IMG_0045_jpg.rf.beb2ed9dd0e3b429b6d0c4f2b5b5065d.jpg  \n",
      " extracting: train/IMG_0047_jpg.rf.9441bfe41c91a12bb5d1e452d2f61751.jpg  \n",
      " extracting: train/IMG_0053_jpeg.rf.b2caa58836388a438c54a1eb3f472719.jpg  \n",
      " extracting: train/IMG_0054_jpeg.rf.cf19e854319cd2d21c8de72aa703159f.jpg  \n",
      " extracting: train/IMG_0057_jpeg.rf.5833be0495b62a84ea600070f11b51cb.jpg  \n",
      " extracting: train/IMG_0058_jpeg.rf.f9602f45bd5bd5e347cc5150cb0f0d01.jpg  \n",
      " extracting: train/IMG_0059_jpeg.rf.29075b31b4b87793ab99cf4469654b82.jpg  \n",
      " extracting: train/IMG_0060_jpeg.rf.b98c06413a9c0556005d39a945e5554d.jpg  \n",
      " extracting: train/IMG_0061_jpeg.rf.ce67e3b6de7113cc2b6ba029c10b3a24.jpg  \n",
      " extracting: train/IMG_0062_jpeg.rf.381abbb1cb65e279be223f25af90d325.jpg  \n",
      " extracting: train/IMG_0064_jpeg.rf.612014b2ede95c9fb7869a657717a2dd.jpg  \n",
      " extracting: train/IMG_0065_jpeg.rf.7dcdc422a3f8142b6b68b24dfbf7172a.jpg  \n",
      " extracting: train/IMG_0066_jpeg.rf.f55bc2ed0be1435108d4b450e81c8b53.jpg  \n",
      " extracting: train/IMG_0068_jpeg.rf.07913d009d09b8667770ed3997fd79c6.jpg  \n",
      " extracting: train/_annotations.coco.json  \n"
     ]
    }
   ],
   "source": [
    "#Inference Test Set - Optional!\n",
    "\n",
    "#downloading test images from Roboflow\n",
    "#export dataset above with format COCO JSON\n",
    "#or import your test images via other means. \n",
    "\n",
    "#%mkdir /content/test/\n",
    "#%cd /content/test/\n",
    "\n",
    "%mkdir /test/\n",
    "%cd /test/\n",
    "\n",
    "#UPDATE THIS LINK - get our data from Roboflow\n",
    "#Or remove line entirely if you don't want to test inference\n",
    "!curl -L \"https://app.roboflow.com/ds/yxPRgFlQ1F?key=HoWLiCxpBf\" > roboflow.zip; unzip roboflow.zip; rm roboflow.zip"
   ]
  },
  {
   "cell_type": "markdown",
   "metadata": {
    "id": "4YaMhEAE3tbv"
   },
   "source": [
    "# 2. Train"
   ]
  },
  {
   "cell_type": "markdown",
   "metadata": {
    "id": "3o76HGZFZZuf"
   },
   "source": [
    "_Note that this section is based on the [MobileNetSSDv2 Notebook](https://colab.research.google.com/drive/1wTMIrJhYsQdq_u7ROOkf0Lu_fsX5Mu8a). This is because TensorFlow Lite is independent of the model used, so we're picking a simple and lightweight solution._"
   ]
  },
  {
   "cell_type": "markdown",
   "metadata": {
    "id": "yhzxsJb3dpWq"
   },
   "source": [
    "## Configs and Hyperparameters\n",
    "\n",
    "Support a variety of models, you can find more pretrained model from [Tensorflow detection model zoo: COCO-trained models](https://github.com/tensorflow/models/blob/master/research/object_detection/g3doc/detection_model_zoo.md#coco-trained-models), as well as their pipline config files in [object_detection/samples/configs/](https://github.com/tensorflow/models/tree/master/research/object_detection/samples/configs)."
   ]
  },
  {
   "cell_type": "code",
   "execution_count": 3,
   "metadata": {
    "id": "gnNXNQCjdniL"
   },
   "outputs": [],
   "source": [
    "# If you forked the repo, you can replace the link.\n",
    "repo_url = 'https://github.com/roboflow-ai/tensorflow-object-detection-faster-rcnn'\n",
    "\n",
    "# Number of training steps - 1000 will train very quickly, but more steps will increase accuracy.\n",
    "num_steps = 100000  # 200000 to improve\n",
    "\n",
    "# Number of evaluation steps.\n",
    "num_eval_steps = 50\n",
    "\n",
    "MODELS_CONFIG = {\n",
    "    'ssd_mobilenet_v2': {\n",
    "        'model_name': 'ssd_mobilenet_v2_coco_2018_03_29',\n",
    "        'pipeline_file': 'ssd_mobilenet_v2_coco.config',\n",
    "        'batch_size': 12\n",
    "    },\n",
    "    'faster_rcnn_inception_v2': {\n",
    "        'model_name': 'faster_rcnn_inception_v2_coco_2018_01_28',\n",
    "        'pipeline_file': 'faster_rcnn_inception_v2_pets.config',\n",
    "        'batch_size': 12\n",
    "    },\n",
    "    'rfcn_resnet101': {\n",
    "        'model_name': 'rfcn_resnet101_coco_2018_01_28',\n",
    "        'pipeline_file': 'rfcn_resnet101_pets.config',\n",
    "        'batch_size': 8\n",
    "    },    \n",
    "}\n",
    "\n",
    "# Pick the model you want to use\n",
    "# Select a model in `MODELS_CONFIG`.\n",
    "selected_model = 'ssd_mobilenet_v2'\n",
    "\n",
    "# Name of the object detection model to use.\n",
    "MODEL = MODELS_CONFIG[selected_model]['model_name']\n",
    "\n",
    "# Name of the pipline file in tensorflow object detection API.\n",
    "pipeline_file = MODELS_CONFIG[selected_model]['pipeline_file']\n",
    "\n",
    "# Training batch size fits in Colabe's Tesla K80 GPU memory for selected model.\n",
    "batch_size = MODELS_CONFIG[selected_model]['batch_size']"
   ]
  },
  {
   "cell_type": "code",
   "execution_count": 4,
   "metadata": {
    "colab": {
     "base_uri": "https://localhost:8080/"
    },
    "id": "DL8oRGC5UgMO",
    "outputId": "34480b45-0308-458e-b33a-90adba42ec8a"
   },
   "outputs": [],
   "source": [
    "# use TF 1.x for Object Detection APIs as they are not ported to TF 2.0 yet\n",
    "#%tensorflow_version 1.x"
   ]
  },
  {
   "cell_type": "markdown",
   "metadata": {
    "id": "w4V-XE6kbkc1"
   },
   "source": [
    "## Clone the `tensorflow-object-detection` repository or your fork."
   ]
  },
  {
   "cell_type": "code",
   "execution_count": 5,
   "metadata": {
    "colab": {
     "base_uri": "https://localhost:8080/"
    },
    "id": "dxc3DmvLQF3z",
    "outputId": "113339d5-df74-4626-af88-2c07f00908ec"
   },
   "outputs": [
    {
     "name": "stdout",
     "output_type": "stream",
     "text": [
      "Cloning into 'tensorflow-object-detection-faster-rcnn'...\n",
      "remote: Enumerating objects: 885, done.\u001b[K\n",
      "remote: Total 885 (delta 0), reused 0 (delta 0), pack-reused 885\u001b[K\n",
      "Receiving objects: 100% (885/885), 24.83 MiB | 3.49 MiB/s, done.\n",
      "Resolving deltas: 100% (428/428), done.\n",
      "/Users/dongheon97/dev/Practice/apple_silicon_test/tensorflow/tensorflow-object-detection-faster-rcnn\n",
      "Already up to date.\n"
     ]
    }
   ],
   "source": [
    "import os\n",
    "\n",
    "#%cd /content\n",
    "\n",
    "repo_dir_path = os.path.abspath(os.path.join('.', os.path.basename(repo_url)))\n",
    "\n",
    "!git clone {repo_url}\n",
    "%cd {repo_dir_path}\n",
    "!git pull"
   ]
  },
  {
   "cell_type": "markdown",
   "metadata": {
    "id": "bI8__uNS8-ns"
   },
   "source": [
    "## Install required packages"
   ]
  },
  {
   "cell_type": "code",
   "execution_count": 6,
   "metadata": {
    "colab": {
     "base_uri": "https://localhost:8080/"
    },
    "id": "ecpHEnka8Kix",
    "outputId": "a901d602-73fa-48c8-b431-4171c902cce0"
   },
   "outputs": [
    {
     "name": "stdout",
     "output_type": "stream",
     "text": [
      "error: RPC failed; curl 56 LibreSSL SSL_read: Connection reset by peer, errno 54\n",
      "error: 2191 bytes of body are still expected\n",
      "fetch-pack: unexpected disconnect while reading sideband packet\n",
      "fatal: early EOF\n",
      "fatal: fetch-pack: invalid index-pack output\n",
      "Requirement already satisfied: tf_slim in /Users/dongheon97/miniforge3/envs/tf/lib/python3.9/site-packages (1.1.0)\n",
      "Requirement already satisfied: absl-py>=0.2.2 in /Users/dongheon97/miniforge3/envs/tf/lib/python3.9/site-packages (from tf_slim) (0.10.0)\n",
      "Requirement already satisfied: six in /Users/dongheon97/miniforge3/envs/tf/lib/python3.9/site-packages (from absl-py>=0.2.2->tf_slim) (1.15.0)\n",
      "zsh:1: command not found: apt-get\n"
     ]
    },
    {
     "ename": "NameError",
     "evalue": "name 'cd' is not defined",
     "output_type": "error",
     "traceback": [
      "\u001b[0;31m---------------------------------------------------------------------------\u001b[0m",
      "\u001b[0;31mNameError\u001b[0m                                 Traceback (most recent call last)",
      "\u001b[0;32m/var/folders/86/dxn6gj7x5jdcw5893s56tz2h0000gn/T/ipykernel_87578/2208327371.py\u001b[0m in \u001b[0;36m<module>\u001b[0;34m\u001b[0m\n\u001b[1;32m     12\u001b[0m \u001b[0;34m\u001b[0m\u001b[0m\n\u001b[1;32m     13\u001b[0m \u001b[0;31m#%cd /content/models/research\u001b[0m\u001b[0;34m\u001b[0m\u001b[0;34m\u001b[0m\u001b[0m\n\u001b[0;32m---> 14\u001b[0;31m \u001b[0mcd\u001b[0m \u001b[0;34m/\u001b[0m\u001b[0mmodels\u001b[0m\u001b[0;34m/\u001b[0m\u001b[0mresearch\u001b[0m\u001b[0;34m\u001b[0m\u001b[0;34m\u001b[0m\u001b[0m\n\u001b[0m\u001b[1;32m     15\u001b[0m \u001b[0mget_ipython\u001b[0m\u001b[0;34m(\u001b[0m\u001b[0;34m)\u001b[0m\u001b[0;34m.\u001b[0m\u001b[0msystem\u001b[0m\u001b[0;34m(\u001b[0m\u001b[0;34m'protoc object_detection/protos/*.proto --python_out=.'\u001b[0m\u001b[0;34m)\u001b[0m\u001b[0;34m\u001b[0m\u001b[0;34m\u001b[0m\u001b[0m\n\u001b[1;32m     16\u001b[0m \u001b[0;34m\u001b[0m\u001b[0m\n",
      "\u001b[0;31mNameError\u001b[0m: name 'cd' is not defined"
     ]
    }
   ],
   "source": [
    "#%cd /content\n",
    "\n",
    "!git clone --quiet https://github.com/tensorflow/models.git\n",
    "\n",
    "!pip install tf_slim\n",
    "\n",
    "!apt-get install -qq protobuf-compiler python-pil python-lxml python-tk\n",
    "\n",
    "!pip install -q Cython contextlib2 pillow lxml matplotlib\n",
    "\n",
    "!pip install -q pycocotools\n",
    "\n",
    "#%cd /content/models/research\n",
    "%cd /models/research\n",
    "!protoc object_detection/protos/*.proto --python_out=.\n",
    "\n",
    "import os\n",
    "#os.environ['PYTHONPATH'] += ':/content/models/research/:/content/models/research/slim/'\n",
    "os.environ['PYTHONPATH'] += ':/models/research/:/models/research/slim/'\n",
    "\n",
    "!python object_detection/builders/model_builder_test.py"
   ]
  },
  {
   "cell_type": "markdown",
   "metadata": {
    "id": "u-k7uGThXlny"
   },
   "source": [
    "## Prepare `tfrecord` files\n",
    "\n",
    "Roboflow automatically creates our TFRecord and label_map files that we need!\n",
    "\n",
    "**Generating your own TFRecords the only step you need to change for your own custom dataset.**\n",
    "\n",
    "Because we need one TFRecord file for our training data, and one TFRecord file for our test data, we'll create two separate datasets in Roboflow and generate one set of TFRecords for each.\n",
    "\n",
    "To create a dataset in Roboflow and generate TFRecords, follow [this step-by-step guide](https://blog.roboflow.ai/getting-started-with-roboflow/)."
   ]
  },
  {
   "cell_type": "code",
   "execution_count": null,
   "metadata": {
    "colab": {
     "base_uri": "https://localhost:8080/"
    },
    "id": "GNfIPc5yxDOv",
    "outputId": "f07fbcba-d3e6-4bad-9912-2985eee6c676"
   },
   "outputs": [],
   "source": [
    "#%cd /content/tensorflow-object-detection-faster-rcnn/data\n",
    "%cd /tensorflow-object-detection-faster-rcnn/data"
   ]
  },
  {
   "cell_type": "code",
   "execution_count": null,
   "metadata": {
    "id": "xg1rceVtTFaA"
   },
   "outputs": [],
   "source": [
    "#!cp -r /content/train/train/ /content/tensorflow-object-detection-faster-rcnn/data/\n",
    "#!cp -r /content/train/test/ /content/tensorflow-object-detection-faster-rcnn/data/\n",
    "\n",
    "!cp -r /train/train/ /tensorflow-object-detection-faster-rcnn/data/\n",
    "!cp -r /train/test/ /tensorflow-object-detection-faster-rcnn/data/"
   ]
  },
  {
   "cell_type": "code",
   "execution_count": null,
   "metadata": {
    "colab": {
     "base_uri": "https://localhost:8080/"
    },
    "id": "m6qI1uVamksZ",
    "outputId": "43d07bbb-584a-4539-ef51-ad2a86734b12"
   },
   "outputs": [],
   "source": [
    "# training set\n",
    "%ls train"
   ]
  },
  {
   "cell_type": "code",
   "execution_count": null,
   "metadata": {
    "colab": {
     "base_uri": "https://localhost:8080/"
    },
    "id": "zEKOjMejmm9U",
    "outputId": "22783556-9d1b-4c6f-c831-a28ae624dd01"
   },
   "outputs": [],
   "source": [
    "# test set\n",
    "%ls test"
   ]
  },
  {
   "cell_type": "code",
   "execution_count": null,
   "metadata": {
    "id": "tgd-fzAIkZlV"
   },
   "outputs": [],
   "source": [
    "# NOTE: Update these TFRecord names from \"cells\" and \"cells_label_map\" to your files!\n",
    "#test_record_fname = '/content/tensorflow-object-detection-faster-rcnn/data/test/With-Mask.tfrecord'\n",
    "#train_record_fname = '/content/tensorflow-object-detection-faster-rcnn/data/train/With-Mask.tfrecord'\n",
    "#label_map_pbtxt_fname = '/content/tensorflow-object-detection-faster-rcnn/data/train/With-Mask_label_map.pbtxt'\n",
    "\n",
    "test_record_fname = '/tensorflow-object-detection-faster-rcnn/data/test/With-Mask.tfrecord'\n",
    "train_record_fname = '/tensorflow-object-detection-faster-rcnn/data/train/With-Mask.tfrecord'\n",
    "label_map_pbtxt_fname = '/tensorflow-object-detection-faster-rcnn/data/train/With-Mask_label_map.pbtxt'"
   ]
  },
  {
   "cell_type": "markdown",
   "metadata": {
    "id": "iCNYAaC7w6N8"
   },
   "source": [
    "## Download base model"
   ]
  },
  {
   "cell_type": "code",
   "execution_count": null,
   "metadata": {
    "colab": {
     "base_uri": "https://localhost:8080/"
    },
    "id": "orDCj6ihgUMR",
    "outputId": "8c54fae7-b122-4a19-e76d-a3bcdef22911"
   },
   "outputs": [],
   "source": [
    "#%cd /content/models/research\n",
    "%cd /models/research\n",
    "\n",
    "import os\n",
    "import shutil\n",
    "import glob\n",
    "import urllib.request\n",
    "import tarfile\n",
    "MODEL_FILE = MODEL + '.tar.gz'\n",
    "DOWNLOAD_BASE = 'http://download.tensorflow.org/models/object_detection/'\n",
    "DEST_DIR = '/content/models/research/pretrained_model'\n",
    "\n",
    "if not (os.path.exists(MODEL_FILE)):\n",
    "    urllib.request.urlretrieve(DOWNLOAD_BASE + MODEL_FILE, MODEL_FILE)\n",
    "\n",
    "tar = tarfile.open(MODEL_FILE)\n",
    "tar.extractall()\n",
    "tar.close()\n",
    "\n",
    "os.remove(MODEL_FILE)\n",
    "if (os.path.exists(DEST_DIR)):\n",
    "    shutil.rmtree(DEST_DIR)\n",
    "os.rename(MODEL, DEST_DIR)"
   ]
  },
  {
   "cell_type": "code",
   "execution_count": null,
   "metadata": {
    "colab": {
     "base_uri": "https://localhost:8080/"
    },
    "id": "pGhvAObeiIix",
    "outputId": "0d757fbd-c482-4cee-cd01-ff3d6496c76c"
   },
   "outputs": [],
   "source": [
    "!echo {DEST_DIR}\n",
    "!ls -alh {DEST_DIR}"
   ]
  },
  {
   "cell_type": "code",
   "execution_count": null,
   "metadata": {
    "colab": {
     "base_uri": "https://localhost:8080/",
     "height": 36
    },
    "id": "UHnxlfRznPP3",
    "outputId": "03fc73ab-8517-4e99-ccf5-ee45aceb5f7c"
   },
   "outputs": [],
   "source": [
    "fine_tune_checkpoint = os.path.join(DEST_DIR, \"model.ckpt\")\n",
    "fine_tune_checkpoint"
   ]
  },
  {
   "cell_type": "markdown",
   "metadata": {
    "id": "MvwtHlLOeRJD"
   },
   "source": [
    "## Configuring a Training Pipeline"
   ]
  },
  {
   "cell_type": "code",
   "execution_count": null,
   "metadata": {
    "id": "dIhw7IdpLuiU"
   },
   "outputs": [],
   "source": [
    "import os\n",
    "#pipeline_fname = os.path.join('/content/models/research/object_detection/samples/configs/', pipeline_file)\n",
    "pipeline_fname = os.path.join('/models/research/object_detection/samples/configs/', pipeline_file)\n",
    "\n",
    "\n",
    "assert os.path.isfile(pipeline_fname), '`{}` not exist'.format(pipeline_fname)"
   ]
  },
  {
   "cell_type": "code",
   "execution_count": null,
   "metadata": {
    "id": "fG1nCNpUXcRU"
   },
   "outputs": [],
   "source": [
    "def get_num_classes(pbtxt_fname):\n",
    "    from object_detection.utils import label_map_util\n",
    "    label_map = label_map_util.load_labelmap(pbtxt_fname)\n",
    "    categories = label_map_util.convert_label_map_to_categories(\n",
    "        label_map, max_num_classes=90, use_display_name=True)\n",
    "    category_index = label_map_util.create_category_index(categories)\n",
    "    return len(category_index.keys())"
   ]
  },
  {
   "cell_type": "code",
   "execution_count": null,
   "metadata": {
    "id": "YjtCbLF2i0wI"
   },
   "outputs": [],
   "source": [
    "import re\n",
    "\n",
    "num_classes = get_num_classes(label_map_pbtxt_fname)\n",
    "with open(pipeline_fname) as f:\n",
    "    s = f.read()\n",
    "with open(pipeline_fname, 'w') as f:\n",
    "    \n",
    "    # fine_tune_checkpoint\n",
    "    s = re.sub('fine_tune_checkpoint: \".*?\"',\n",
    "               'fine_tune_checkpoint: \"{}\"'.format(fine_tune_checkpoint), s)\n",
    "    \n",
    "    # tfrecord files train and test.\n",
    "    s = re.sub(\n",
    "        '(input_path: \".*?)(train.record)(.*?\")', 'input_path: \"{}\"'.format(train_record_fname), s)\n",
    "    s = re.sub(\n",
    "        '(input_path: \".*?)(val.record)(.*?\")', 'input_path: \"{}\"'.format(test_record_fname), s)\n",
    "\n",
    "    # label_map_path\n",
    "    s = re.sub(\n",
    "        'label_map_path: \".*?\"', 'label_map_path: \"{}\"'.format(label_map_pbtxt_fname), s)\n",
    "\n",
    "    # Set training batch_size.\n",
    "    s = re.sub('batch_size: [0-9]+',\n",
    "               'batch_size: {}'.format(batch_size), s)\n",
    "\n",
    "    # Set training steps, num_steps\n",
    "    s = re.sub('num_steps: [0-9]+',\n",
    "               'num_steps: {}'.format(num_steps), s)\n",
    "    \n",
    "    # Set number of classes num_classes.\n",
    "    s = re.sub('num_classes: [0-9]+',\n",
    "               'num_classes: {}'.format(num_classes), s)\n",
    "    f.write(s)"
   ]
  },
  {
   "cell_type": "code",
   "execution_count": null,
   "metadata": {
    "colab": {
     "base_uri": "https://localhost:8080/"
    },
    "id": "GH0MEEanocn6",
    "outputId": "b3a02c90-6d5c-4edc-9da9-100ad5afdbc1"
   },
   "outputs": [],
   "source": [
    "!cat {pipeline_fname}"
   ]
  },
  {
   "cell_type": "code",
   "execution_count": null,
   "metadata": {
    "id": "f11w0uO3jFCB"
   },
   "outputs": [],
   "source": [
    "model_dir = 'training/'\n",
    "# Optionally remove content in output model directory to fresh start.\n",
    "!rm -rf {model_dir}\n",
    "os.makedirs(model_dir, exist_ok=True)"
   ]
  },
  {
   "cell_type": "markdown",
   "metadata": {
    "id": "23TECXvNezIF"
   },
   "source": [
    "## Run Tensorboard(Optional)"
   ]
  },
  {
   "cell_type": "code",
   "execution_count": null,
   "metadata": {
    "colab": {
     "base_uri": "https://localhost:8080/"
    },
    "id": "0H2PZs-mSCmO",
    "outputId": "95cfda41-4359-48ef-ae0d-1c909856a2e0"
   },
   "outputs": [],
   "source": [
    "!wget https://bin.equinox.io/c/4VmDzA7iaHb/ngrok-stable-linux-amd64.zip\n",
    "!unzip -o ngrok-stable-linux-amd64.zip"
   ]
  },
  {
   "cell_type": "code",
   "execution_count": null,
   "metadata": {
    "id": "G8o6r1o5SC5M"
   },
   "outputs": [],
   "source": [
    "LOG_DIR = model_dir\n",
    "get_ipython().system_raw(\n",
    "    'tensorboard --logdir {} --host 0.0.0.0 --port 6006 &'\n",
    "    .format(LOG_DIR)\n",
    ")"
   ]
  },
  {
   "cell_type": "code",
   "execution_count": null,
   "metadata": {
    "id": "Ge1OX7gcSC7S"
   },
   "outputs": [],
   "source": [
    "get_ipython().system_raw('./ngrok http 6006 &')"
   ]
  },
  {
   "cell_type": "markdown",
   "metadata": {
    "id": "m5GSGxZNh8rp"
   },
   "source": [
    "### Get Tensorboard link"
   ]
  },
  {
   "cell_type": "code",
   "execution_count": null,
   "metadata": {
    "colab": {
     "base_uri": "https://localhost:8080/"
    },
    "id": "rjhPT9iPSJ6T",
    "outputId": "02fe6984-bf2e-4ecd-d1eb-089d5642fc4f"
   },
   "outputs": [],
   "source": [
    "! curl -s http://localhost:4040/api/tunnels | python3 -c \\\n",
    "    \"import sys, json; print(json.load(sys.stdin)['tunnels'][0]['public_url'])\""
   ]
  },
  {
   "cell_type": "code",
   "execution_count": null,
   "metadata": {
    "colab": {
     "base_uri": "https://localhost:8080/"
    },
    "id": "1dgjmfphZAJk",
    "outputId": "a91f2db9-f46c-4574-e42e-832af8b9c2f0"
   },
   "outputs": [],
   "source": [
    "!pip install lvis"
   ]
  },
  {
   "cell_type": "markdown",
   "metadata": {
    "id": "JDddx2rPfex9"
   },
   "source": [
    "## Train the model"
   ]
  },
  {
   "cell_type": "code",
   "execution_count": null,
   "metadata": {
    "colab": {
     "base_uri": "https://localhost:8080/"
    },
    "id": "CjDHjhKQofT5",
    "outputId": "68ac8c5f-1e69-4c31-ea60-c8cad51cbd1b"
   },
   "outputs": [],
   "source": [
    "# !python /content/models/research/object_detection/model_main.py \\\n",
    "#     --pipeline_config_path={pipeline_fname} \\\n",
    "#     --model_dir={model_dir} \\\n",
    "#     --alsologtostderr \\\n",
    "#     --num_train_steps={num_steps} \\\n",
    "#     --num_eval_steps={num_eval_steps}\n",
    "\n",
    "!python /models/research/object_detection/model_main.py \\\n",
    "    --pipeline_config_path={pipeline_fname} \\\n",
    "    --model_dir={model_dir} \\\n",
    "    --alsologtostderr \\\n",
    "    --num_train_steps={num_steps} \\\n",
    "    --num_eval_steps={num_eval_steps}"
   ]
  },
  {
   "cell_type": "code",
   "execution_count": null,
   "metadata": {
    "colab": {
     "base_uri": "https://localhost:8080/"
    },
    "id": "KP-tUdtnRybs",
    "outputId": "b49d9562-6ea9-4c12-8a86-744ed5770082"
   },
   "outputs": [],
   "source": [
    "!ls {model_dir}"
   ]
  },
  {
   "cell_type": "markdown",
   "metadata": {
    "id": "OmSESMetj1sa"
   },
   "source": [
    "## Exporting Trained Inference Graphs\n",
    "Once your training job is complete, you need to extract the newly trained inference graph, which will be later used to perform the object detection. We do this again for TFLite. This can be done as follows:"
   ]
  },
  {
   "cell_type": "code",
   "execution_count": null,
   "metadata": {
    "colab": {
     "base_uri": "https://localhost:8080/"
    },
    "id": "DHoP90pUyKSq",
    "outputId": "ae9e9fd7-0898-44cd-fd8e-5a1c84248d11"
   },
   "outputs": [],
   "source": [
    "#%cd /content/models/research\n",
    "%cd /models/research\n",
    "\n",
    "import re\n",
    "import numpy as np\n",
    "\n",
    "output_directory = './fine_tuned_model'\n",
    "tflite_directory = './fine_tuned_model/tflite'\n",
    "\n",
    "lst = os.listdir(model_dir)\n",
    "lst = [l for l in lst if 'model.ckpt-' in l and '.meta' in l]\n",
    "steps=np.array([int(re.findall('\\d+', l)[0]) for l in lst])\n",
    "last_model = lst[steps.argmax()].replace('.meta', '')\n",
    "\n",
    "last_model_path = os.path.join(model_dir, last_model)\n",
    "# print(last_model_path)\n",
    "# !python /content/models/research/object_detection/export_inference_graph.py \\\n",
    "#     --input_type=image_tensor \\\n",
    "#     --pipeline_config_path={pipeline_fname} \\\n",
    "#     --output_directory={output_directory} \\\n",
    "#     --trained_checkpoint_prefix={last_model_path} \n",
    "# !python /content/models/research/object_detection/export_tflite_ssd_graph.py \\\n",
    "#     --input_type=image_tensor \\\n",
    "#     --pipeline_config_path={pipeline_fname} \\\n",
    "#     --output_directory={tflite_directory} \\\n",
    "#     --trained_checkpoint_prefix={last_model_path} \n",
    "\n",
    "!python /models/research/object_detection/export_inference_graph.py \\\n",
    "    --input_type=image_tensor \\\n",
    "    --pipeline_config_path={pipeline_fname} \\\n",
    "    --output_directory={output_directory} \\\n",
    "    --trained_checkpoint_prefix={last_model_path} \n",
    "!python /models/research/object_detection/export_tflite_ssd_graph.py \\\n",
    "    --input_type=image_tensor \\\n",
    "    --pipeline_config_path={pipeline_fname} \\\n",
    "    --output_directory={tflite_directory} \\\n",
    "    --trained_checkpoint_prefix={last_model_path} "
   ]
  },
  {
   "cell_type": "code",
   "execution_count": null,
   "metadata": {
    "colab": {
     "base_uri": "https://localhost:8080/"
    },
    "id": "usgBZvkz0nqD",
    "outputId": "edf8a762-8cef-4a72-828a-e83e32886ca4"
   },
   "outputs": [],
   "source": [
    "!ls {output_directory}"
   ]
  },
  {
   "cell_type": "markdown",
   "metadata": {
    "id": "p09AOThWkaQv"
   },
   "source": [
    "## Download the model `.pb` file"
   ]
  },
  {
   "cell_type": "code",
   "execution_count": null,
   "metadata": {
    "colab": {
     "base_uri": "https://localhost:8080/"
    },
    "id": "CnDo1lonKgFr",
    "outputId": "6473d51a-d8d2-4909-9399-250ec08bf8f4"
   },
   "outputs": [],
   "source": [
    "import os\n",
    "\n",
    "pb_fname = os.path.join(os.path.abspath(output_directory), \"frozen_inference_graph.pb\")\n",
    "print(pb_fname)\n",
    "assert os.path.isfile(pb_fname), '`{}` not exist'.format(pb_fname)"
   ]
  },
  {
   "cell_type": "code",
   "execution_count": null,
   "metadata": {
    "id": "lHqWkLBINYoI"
   },
   "outputs": [],
   "source": [
    "# !ls -alh {pb_fname}"
   ]
  },
  {
   "cell_type": "markdown",
   "metadata": {
    "id": "FIqnjbWYsuQw"
   },
   "source": [
    "### Option1 : upload the `.pb` file to your Google Drive\n",
    "Then download it from your Google Drive to local file system.\n",
    "\n",
    "During this step, you will be prompted to enter the token."
   ]
  },
  {
   "cell_type": "code",
   "execution_count": null,
   "metadata": {
    "id": "hAqyASIJqjae"
   },
   "outputs": [],
   "source": [
    "# # Install the PyDrive wrapper & import libraries.\n",
    "# # This only needs to be done once in a notebook.\n",
    "# !pip install -U -q PyDrive\n",
    "# from pydrive.auth import GoogleAuth\n",
    "# from pydrive.drive import GoogleDrive\n",
    "# from google.colab import auth\n",
    "# from oauth2client.client import GoogleCredentials\n",
    "\n",
    "\n",
    "# # Authenticate and create the PyDrive client.\n",
    "# # This only needs to be done once in a notebook.\n",
    "# auth.authenticate_user()\n",
    "# gauth = GoogleAuth()\n",
    "# gauth.credentials = GoogleCredentials.get_application_default()\n",
    "# drive = GoogleDrive(gauth)\n",
    "\n",
    "# fname = os.path.basename(pb_fname)\n",
    "# # Create & upload a text file.\n",
    "# uploaded = drive.CreateFile({'title': fname})\n",
    "# uploaded.SetContentFile(pb_fname)\n",
    "# uploaded.Upload()\n",
    "# print('Uploaded file with ID {}'.format(uploaded.get('id')))"
   ]
  },
  {
   "cell_type": "markdown",
   "metadata": {
    "id": "2FKFq8RXs6bs"
   },
   "source": [
    "### Option2 :  Download the `.pb` file directly to your local file system\n",
    "This method may not be stable when downloading large files like the model `.pb` file. Try **option 1** instead if not working."
   ]
  },
  {
   "cell_type": "code",
   "execution_count": null,
   "metadata": {
    "colab": {
     "base_uri": "https://localhost:8080/",
     "height": 35
    },
    "id": "-bP0iMMnnr77",
    "outputId": "faff96fd-519a-4cba-c9cf-5271c46015a4"
   },
   "outputs": [],
   "source": [
    "from google.colab import files\n",
    "files.download(pb_fname)"
   ]
  },
  {
   "cell_type": "markdown",
   "metadata": {
    "id": "MFyCeiBb9BbS"
   },
   "source": [
    "### OPTIONAL: Download the `label_map.pbtxt` file"
   ]
  },
  {
   "cell_type": "code",
   "execution_count": null,
   "metadata": {
    "id": "K1TbL6Ox8q6Z"
   },
   "outputs": [],
   "source": [
    "# from google.colab import files\n",
    "# files.download(label_map_pbtxt_fname)"
   ]
  },
  {
   "cell_type": "markdown",
   "metadata": {
    "id": "iUmAo9foa1xq"
   },
   "source": [
    "### OPTIONAL: Download the modified pipline file\n",
    "If you plan to use OpenVINO toolkit to convert the `.pb` file to inference faster on Intel's hardware (CPU/GPU, Movidius, etc.)"
   ]
  },
  {
   "cell_type": "code",
   "execution_count": null,
   "metadata": {
    "id": "pql2QpemazE1"
   },
   "outputs": [],
   "source": [
    "# files.download(pipeline_fname)"
   ]
  },
  {
   "cell_type": "code",
   "execution_count": null,
   "metadata": {
    "id": "w1AgBj1l0v_W"
   },
   "outputs": [],
   "source": [
    "# !tar cfz fine_tuned_model.tar.gz fine_tuned_model\n",
    "# from google.colab import files\n",
    "# files.download('fine_tuned_model.tar.gz')"
   ]
  },
  {
   "cell_type": "markdown",
   "metadata": {
    "id": "mz1gX19GlVW7"
   },
   "source": [
    "## Run inference test\n",
    "Test with images in repository `tensorflow-object-detection/test` directory.\n",
    "\n",
    "**To test with your own images, you need to place your images inside the `test` directory in this Colab notebook!** More on this below."
   ]
  },
  {
   "cell_type": "code",
   "execution_count": null,
   "metadata": {
    "id": "tnrAHO1q-cmo"
   },
   "outputs": [],
   "source": [
    "#!cp -r /content/test/test/ /content/tensorflow-object-detection-faster-rcnn/\n",
    "!cp -r /test/test/ /tensorflow-object-detection-faster-rcnn/"
   ]
  },
  {
   "cell_type": "code",
   "execution_count": null,
   "metadata": {
    "colab": {
     "base_uri": "https://localhost:8080/"
    },
    "id": "Pzj9A4e5mj5l",
    "outputId": "2bbbe2b1-3106-4af1-8576-26569b4e36b9"
   },
   "outputs": [],
   "source": [
    "import os\n",
    "import glob\n",
    "\n",
    "# Path to frozen detection graph. This is the actual model that is used for the object detection.\n",
    "PATH_TO_CKPT = pb_fname\n",
    "\n",
    "# List of the strings that is used to add correct label for each box.\n",
    "PATH_TO_LABELS = label_map_pbtxt_fname\n",
    "\n",
    "# If you want to test the code with your images, just add images files to the PATH_TO_TEST_IMAGES_DIR.\n",
    "PATH_TO_TEST_IMAGES_DIR =  os.path.join(repo_dir_path, \"test\")\n",
    "\n",
    "assert os.path.isfile(pb_fname)\n",
    "assert os.path.isfile(PATH_TO_LABELS)\n",
    "TEST_IMAGE_PATHS = glob.glob(os.path.join(PATH_TO_TEST_IMAGES_DIR, \"*.*\"))\n",
    "assert len(TEST_IMAGE_PATHS) > 0, 'No image found in `{}`.'.format(PATH_TO_TEST_IMAGES_DIR)\n",
    "print(TEST_IMAGE_PATHS)"
   ]
  },
  {
   "cell_type": "code",
   "execution_count": null,
   "metadata": {
    "colab": {
     "base_uri": "https://localhost:8080/"
    },
    "id": "RkDMDhyZ-O2T",
    "outputId": "497c6e38-37b4-4817-94cf-0409bdb46269"
   },
   "outputs": [],
   "source": [
    "#!ls /content/tensorflow-object-detection-faster-rcnn/\n",
    "!ls /tensorflow-object-detection-faster-rcnn/"
   ]
  },
  {
   "cell_type": "code",
   "execution_count": null,
   "metadata": {
    "colab": {
     "base_uri": "https://localhost:8080/"
    },
    "id": "dNFc5CM3Duav",
    "outputId": "afa08949-5d93-4539-ea4c-d9fb9ff92ecb"
   },
   "outputs": [],
   "source": [
    "#%cd /content/models/research/object_detection\n",
    "%cd /models/research/object_detection\n",
    "\n",
    "\n",
    "import numpy as np\n",
    "import os\n",
    "import six.moves.urllib as urllib\n",
    "import sys\n",
    "import tarfile\n",
    "import tensorflow as tf\n",
    "import zipfile\n",
    "\n",
    "from collections import defaultdict\n",
    "from io import StringIO\n",
    "from matplotlib import pyplot as plt\n",
    "from PIL import Image\n",
    "\n",
    "# This is needed since the notebook is stored in the object_detection folder.\n",
    "sys.path.append(\"..\")\n",
    "from object_detection.utils import ops as utils_ops\n",
    "\n",
    "\n",
    "# This is needed to display the images.\n",
    "%matplotlib inline\n",
    "\n",
    "\n",
    "from object_detection.utils import label_map_util\n",
    "\n",
    "from object_detection.utils import visualization_utils as vis_util"
   ]
  },
  {
   "cell_type": "code",
   "execution_count": null,
   "metadata": {
    "id": "CG5YUMdg1Po7"
   },
   "outputs": [],
   "source": [
    "detection_graph = tf.Graph()\n",
    "with detection_graph.as_default():\n",
    "    od_graph_def = tf.GraphDef()\n",
    "    with tf.gfile.GFile(PATH_TO_CKPT, 'rb') as fid:\n",
    "        serialized_graph = fid.read()\n",
    "        od_graph_def.ParseFromString(serialized_graph)\n",
    "        tf.import_graph_def(od_graph_def, name='')\n",
    "\n",
    "\n",
    "label_map = label_map_util.load_labelmap(PATH_TO_LABELS)\n",
    "categories = label_map_util.convert_label_map_to_categories(\n",
    "    label_map, max_num_classes=num_classes, use_display_name=True)\n",
    "category_index = label_map_util.create_category_index(categories)\n",
    "\n",
    "\n",
    "def load_image_into_numpy_array(image):\n",
    "    (im_width, im_height) = image.size\n",
    "    return np.array(image.getdata()).reshape(\n",
    "        (im_height, im_width, 3)).astype(np.uint8)\n",
    "\n",
    "# Size, in inches, of the output images.\n",
    "IMAGE_SIZE = (12, 8)\n",
    "\n",
    "\n",
    "def run_inference_for_single_image(image, graph):\n",
    "    with graph.as_default():\n",
    "        with tf.Session() as sess:\n",
    "            # Get handles to input and output tensors\n",
    "            ops = tf.get_default_graph().get_operations()\n",
    "            all_tensor_names = {\n",
    "                output.name for op in ops for output in op.outputs}\n",
    "            tensor_dict = {}\n",
    "            for key in [\n",
    "                'num_detections', 'detection_boxes', 'detection_scores',\n",
    "                'detection_classes', 'detection_masks'\n",
    "            ]:\n",
    "                tensor_name = key + ':0'\n",
    "                if tensor_name in all_tensor_names:\n",
    "                    tensor_dict[key] = tf.get_default_graph().get_tensor_by_name(\n",
    "                        tensor_name)\n",
    "            if 'detection_masks' in tensor_dict:\n",
    "                # The following processing is only for single image\n",
    "                detection_boxes = tf.squeeze(\n",
    "                    tensor_dict['detection_boxes'], [0])\n",
    "                detection_masks = tf.squeeze(\n",
    "                    tensor_dict['detection_masks'], [0])\n",
    "                # Reframe is required to translate mask from box coordinates to image coordinates and fit the image size.\n",
    "                real_num_detection = tf.cast(\n",
    "                    tensor_dict['num_detections'][0], tf.int32)\n",
    "                detection_boxes = tf.slice(detection_boxes, [0, 0], [\n",
    "                                           real_num_detection, -1])\n",
    "                detection_masks = tf.slice(detection_masks, [0, 0, 0], [\n",
    "                                           real_num_detection, -1, -1])\n",
    "                detection_masks_reframed = utils_ops.reframe_box_masks_to_image_masks(\n",
    "                    detection_masks, detection_boxes, image.shape[0], image.shape[1])\n",
    "                detection_masks_reframed = tf.cast(\n",
    "                    tf.greater(detection_masks_reframed, 0.5), tf.uint8)\n",
    "                # Follow the convention by adding back the batch dimension\n",
    "                tensor_dict['detection_masks'] = tf.expand_dims(\n",
    "                    detection_masks_reframed, 0)\n",
    "            image_tensor = tf.get_default_graph().get_tensor_by_name('image_tensor:0')\n",
    "\n",
    "            # Run inference\n",
    "            output_dict = sess.run(tensor_dict,\n",
    "                                   feed_dict={image_tensor: np.expand_dims(image, 0)})\n",
    "\n",
    "            # all outputs are float32 numpy arrays, so convert types as appropriate\n",
    "            output_dict['num_detections'] = int(\n",
    "                output_dict['num_detections'][0])\n",
    "            output_dict['detection_classes'] = output_dict[\n",
    "                'detection_classes'][0].astype(np.uint8)\n",
    "            output_dict['detection_boxes'] = output_dict['detection_boxes'][0]\n",
    "            output_dict['detection_scores'] = output_dict['detection_scores'][0]\n",
    "            if 'detection_masks' in output_dict:\n",
    "                output_dict['detection_masks'] = output_dict['detection_masks'][0]\n",
    "    return output_dict"
   ]
  },
  {
   "cell_type": "code",
   "execution_count": null,
   "metadata": {
    "id": "-IbKIjbY_MRk"
   },
   "outputs": [],
   "source": [
    "# Output images not showing? Run this cell again, and try the cell above\n",
    "# This is needed to display the images.\n",
    "%matplotlib inline"
   ]
  },
  {
   "cell_type": "code",
   "execution_count": null,
   "metadata": {
    "colab": {
     "base_uri": "https://localhost:8080/",
     "height": 1000
    },
    "id": "Ah9YKYOX9qrH",
    "outputId": "f3867709-279a-4943-c82e-a62da6fd7830"
   },
   "outputs": [],
   "source": [
    "# Limited displayed images to 5 to reduce memory\n",
    "count = 10\n",
    "for i, image_path in enumerate(TEST_IMAGE_PATHS):\n",
    "    if i > count:\n",
    "        break\n",
    "    image = Image.open(image_path)\n",
    "    # the array based representation of the image will be used later in order to prepare the\n",
    "    # result image with boxes and labels on it.\n",
    "    image_np = load_image_into_numpy_array(image)\n",
    "    # Expand dimensions since the model expects images to have shape: [1, None, None, 3]\n",
    "    image_np_expanded = np.expand_dims(image_np, axis=0)\n",
    "    # Actual detection.\n",
    "    output_dict = run_inference_for_single_image(image_np, detection_graph)\n",
    "    # Visualization of the results of a detection.\n",
    "    vis_util.visualize_boxes_and_labels_on_image_array(\n",
    "        image_np,\n",
    "        output_dict['detection_boxes'],\n",
    "        output_dict['detection_classes'],\n",
    "        output_dict['detection_scores'],\n",
    "        category_index,\n",
    "        instance_masks=output_dict.get('detection_masks'),\n",
    "        use_normalized_coordinates=True,\n",
    "        line_thickness=8)\n",
    "    plt.figure(figsize=IMAGE_SIZE)\n",
    "    plt.imshow(image_np)"
   ]
  },
  {
   "cell_type": "markdown",
   "metadata": {
    "id": "s1sCl-oy60g8"
   },
   "source": [
    "# 3. Convert"
   ]
  },
  {
   "cell_type": "markdown",
   "metadata": {
    "id": "SjNSKQ5ohKmV"
   },
   "source": [
    "With our model trained, it's time to convert our graph to .tflite!"
   ]
  },
  {
   "cell_type": "code",
   "execution_count": null,
   "metadata": {
    "colab": {
     "base_uri": "https://localhost:8080/"
    },
    "id": "5sc7_AUKbEJC",
    "outputId": "e8ef40c2-eeda-4cc1-9966-dd9ebba6d911"
   },
   "outputs": [],
   "source": [
    "#%ls /content/models/research/fine_tuned_model/tflite\n",
    "%ls /models/research/fine_tuned_model/tflite"
   ]
  },
  {
   "cell_type": "code",
   "execution_count": null,
   "metadata": {
    "colab": {
     "base_uri": "https://localhost:8080/"
    },
    "id": "3X1lSdrMuzq_",
    "outputId": "cf1e8566-e5c9-4bbc-cffb-dd0f8928320c"
   },
   "outputs": [],
   "source": [
    "!sudo apt-get update\n",
    "!sudo apt-get install bazel"
   ]
  },
  {
   "cell_type": "code",
   "execution_count": null,
   "metadata": {
    "colab": {
     "base_uri": "https://localhost:8080/"
    },
    "id": "ZJpqD7VqvEVF",
    "outputId": "c9793eab-4c84-4fa3-ad67-d1e7d56946b2"
   },
   "outputs": [],
   "source": [
    "!bazel"
   ]
  },
  {
   "cell_type": "code",
   "execution_count": null,
   "metadata": {
    "colab": {
     "base_uri": "https://localhost:8080/"
    },
    "id": "NH5_6_Cbd4W9",
    "outputId": "430f786e-2970-4edf-d8f1-ca2d0a743a32"
   },
   "outputs": [],
   "source": [
    "# !tflite_convert \\\n",
    "#   --input_shape=1,300,300,3 \\\n",
    "#   --input_arrays=normalized_input_image_tensor \\\n",
    "#   --output_arrays=TFLite_Detection_PostProcess,TFLite_Detection_PostProcess:1,TFLite_Detection_PostProcess:2,TFLite_Detection_PostProcess:3 \\\n",
    "#   --allow_custom_ops \\\n",
    "#   --graph_def_file=/content/models/research/fine_tuned_model/tflite/tflite_graph.pb \\\n",
    "#   --output_file=\"/content/models/research/fine_tuned_model/final_model.tflite\" \\\n",
    "#   --inference_type=FLOAT \\\n",
    "#   --mean_values=128 \\\n",
    "#   --std_dev_values=128 \\\n",
    "\n",
    "!tflite_convert \\\n",
    "  --input_shape=1,300,300,3 \\\n",
    "  --input_arrays=normalized_input_image_tensor \\\n",
    "  --output_arrays=TFLite_Detection_PostProcess,TFLite_Detection_PostProcess:1,TFLite_Detection_PostProcess:2,TFLite_Detection_PostProcess:3 \\\n",
    "  --allow_custom_ops \\\n",
    "  --graph_def_file=/models/research/fine_tuned_model/tflite/tflite_graph.pb \\\n",
    "  --output_file=\"/models/research/fine_tuned_model/final_model.tflite\" \\\n",
    "  --inference_type=FLOAT \\\n",
    "  --mean_values=128 \\\n",
    "  --std_dev_values=128 \\"
   ]
  },
  {
   "cell_type": "code",
   "execution_count": null,
   "metadata": {
    "colab": {
     "base_uri": "https://localhost:8080/"
    },
    "id": "MsIQ-9zW7_mF",
    "outputId": "64b7f42a-3b03-404d-f392-002d0f157096"
   },
   "outputs": [],
   "source": [
    "!tflite_convert --help"
   ]
  },
  {
   "cell_type": "code",
   "execution_count": null,
   "metadata": {
    "colab": {
     "base_uri": "https://localhost:8080/"
    },
    "id": "AnmVSicnA-bL",
    "outputId": "e2dac693-bd97-45aa-ac84-38081ced732c"
   },
   "outputs": [],
   "source": [
    "from google.colab import drive\n",
    "drive.mount('/drive')\n",
    "#drive.mount('/content/drive')"
   ]
  },
  {
   "cell_type": "code",
   "execution_count": null,
   "metadata": {
    "id": "BqL6A9mjBLKv"
   },
   "outputs": [],
   "source": [
    "# Change the final TFLite destination here\n",
    "#!cp /content/models/research/fine_tuned_model/final_model.tflite \"/content/drive/My Drive/\"\n",
    "!cp /models/research/fine_tuned_model/final_model.tflite \"/drive/My Drive/\""
   ]
  },
  {
   "cell_type": "code",
   "execution_count": null,
   "metadata": {
    "colab": {
     "base_uri": "https://localhost:8080/",
     "height": 139
    },
    "id": "u7vE5B1_1OuC",
    "outputId": "ab237f24-7749-49a3-d0b7-f136916dce99"
   },
   "outputs": [],
   "source": [
    "#/content/models/research/fine_tuned_model/final_model.tflite\n",
    "/models/research/fine_tuned_model/final_model.tflite"
   ]
  },
  {
   "cell_type": "code",
   "execution_count": null,
   "metadata": {
    "colab": {
     "base_uri": "https://localhost:8080/",
     "height": 35
    },
    "id": "pEpI6ltMor9s",
    "outputId": "1735d223-c27b-4d78-f16b-f2cf50b36277"
   },
   "outputs": [],
   "source": [
    "from google.colab import files\n",
    "#files.download('/content/models/research/fine_tuned_model/final_model.tflite')\n",
    "files.download('/models/research/fine_tuned_model/final_model.tflite')"
   ]
  },
  {
   "cell_type": "markdown",
   "metadata": {
    "id": "iQNrFbSCgQ6b"
   },
   "source": [
    "Your TFLite file is now in your Drive as \"final_model.tflite\", ready to use with your project on-device! For specific device tutorials, check out the official TensorFlow Lite [Android Demo](https://github.com/tensorflow/examples/tree/master/lite/examples/object_detection/android), [iOS Demo](https://github.com/tensorflow/examples/tree/master/lite/examples/object_detection/ios), or [Raspberry Pi Demo](https://github.com/tensorflow/examples/tree/master/lite/examples/object_detection/raspberry_pi). [link text](https://)"
   ]
  }
 ],
 "metadata": {
  "accelerator": "GPU",
  "colab": {
   "collapsed_sections": [],
   "name": "Roboflow-TFLite-Object-Detection_Bicycle_Helmet.ipynb",
   "provenance": []
  },
  "kernelspec": {
   "display_name": "Python 3 (ipykernel)",
   "language": "python",
   "name": "python3"
  },
  "language_info": {
   "codemirror_mode": {
    "name": "ipython",
    "version": 3
   },
   "file_extension": ".py",
   "mimetype": "text/x-python",
   "name": "python",
   "nbconvert_exporter": "python",
   "pygments_lexer": "ipython3",
   "version": "3.9.7"
  }
 },
 "nbformat": 4,
 "nbformat_minor": 1
}
