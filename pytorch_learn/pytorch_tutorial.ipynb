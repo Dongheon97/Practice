{
 "cells": [
  {
   "cell_type": "code",
   "execution_count": 33,
   "id": "baf3af53",
   "metadata": {},
   "outputs": [],
   "source": [
    "import torch\n",
    "import numpy as np\n"
   ]
  },
  {
   "cell_type": "code",
   "execution_count": 6,
   "id": "7dee358d",
   "metadata": {},
   "outputs": [
    {
     "name": "stdout",
     "output_type": "stream",
     "text": [
      "tensor([[ 0.0000e+00,  4.4766e+00,  2.3694e-38,  2.3694e-38],\n",
      "        [ 0.0000e+00,  2.0000e+00,  6.7854e-29, -1.5846e+29]])\n"
     ]
    }
   ],
   "source": [
    "x = torch.empty(2, 4)\n",
    "print(x)"
   ]
  },
  {
   "cell_type": "code",
   "execution_count": 15,
   "id": "716989ca",
   "metadata": {},
   "outputs": [
    {
     "name": "stdout",
     "output_type": "stream",
     "text": [
      "tensor([[1., 1., 1.],\n",
      "        [1., 1., 1.],\n",
      "        [1., 1., 1.]], dtype=torch.float16)\n",
      "torch.Size([3, 3])\n",
      "torch.float16\n"
     ]
    }
   ],
   "source": [
    "x = torch.ones(3, 3, dtype=torch.float16)\n",
    "print(x)\n",
    "print(x.size())\n",
    "print(x.dtype)"
   ]
  },
  {
   "cell_type": "code",
   "execution_count": 21,
   "id": "54a49d54",
   "metadata": {},
   "outputs": [
    {
     "name": "stdout",
     "output_type": "stream",
     "text": [
      "tensor([[0.2363, 0.9350],\n",
      "        [0.0947, 0.3268]])\n",
      "tensor([[0.6679, 0.9769],\n",
      "        [0.9924, 0.3308]])\n",
      "tensor([[0.9043, 1.9120],\n",
      "        [1.0871, 0.6576]])\n",
      "tensor([[0.9043, 1.9120],\n",
      "        [1.0871, 0.6576]])\n",
      "tensor([[0.9043, 1.9120],\n",
      "        [1.0871, 0.6576]])\n",
      "tensor([[0.2137, 1.7877],\n",
      "        [0.1030, 0.2149]])\n",
      "tensor([[0.2137, 1.7877],\n",
      "        [0.1030, 0.2149]])\n"
     ]
    }
   ],
   "source": [
    "x = torch.rand(2,2)\n",
    "y = torch.rand(2,2)\n",
    "print(x)\n",
    "print(y)\n",
    "z = x + y\n",
    "print(z)\n",
    "z = torch.add(x, y)\n",
    "print(z)\n",
    "y.add_(x)\n",
    "print(y)\n",
    "\n",
    "z = x*y \n",
    "print(z)\n",
    "z = torch.mul(x, y)\n",
    "print(z)"
   ]
  },
  {
   "cell_type": "code",
   "execution_count": 27,
   "id": "c8c688ef",
   "metadata": {},
   "outputs": [
    {
     "name": "stdout",
     "output_type": "stream",
     "text": [
      "tensor([[0.5397, 0.4650, 0.7974],\n",
      "        [0.4707, 0.2157, 0.7947],\n",
      "        [0.2965, 0.8673, 0.8191],\n",
      "        [0.8366, 0.1379, 0.1382],\n",
      "        [0.9308, 0.0367, 0.4583]])\n",
      "tensor([0.5397, 0.4707, 0.2965, 0.8366, 0.9308])\n",
      "tensor([0.4707, 0.2157, 0.7947])\n",
      "0.21565133333206177\n"
     ]
    }
   ],
   "source": [
    "x = torch.rand(5, 3)\n",
    "print(x)\n",
    "print(x[:, 0])\n",
    "print(x[1, :])\n",
    "print(x[1, 1].item())\n"
   ]
  },
  {
   "cell_type": "code",
   "execution_count": 32,
   "id": "f531382b",
   "metadata": {},
   "outputs": [
    {
     "name": "stdout",
     "output_type": "stream",
     "text": [
      "tensor([[0.5911, 0.2465, 0.5216, 0.9873],\n",
      "        [0.1152, 0.4763, 0.6796, 0.5204],\n",
      "        [0.6469, 0.2015, 0.6824, 0.0137],\n",
      "        [0.4019, 0.3848, 0.4236, 0.3290]])\n",
      "tensor([0.5911, 0.2465, 0.5216, 0.9873, 0.1152, 0.4763, 0.6796, 0.5204, 0.6469,\n",
      "        0.2015, 0.6824, 0.0137, 0.4019, 0.3848, 0.4236, 0.3290])\n",
      "torch.Size([2, 8])\n"
     ]
    }
   ],
   "source": [
    "x = torch.rand(4,4)\n",
    "print(x)\n",
    "y = x.view(16)\n",
    "print(y)\n",
    "y = x.view(-1, 8)\n",
    "print(y.size())"
   ]
  },
  {
   "cell_type": "code",
   "execution_count": 38,
   "id": "465a108b",
   "metadata": {},
   "outputs": [
    {
     "name": "stdout",
     "output_type": "stream",
     "text": [
      "tensor([1., 1., 1., 1., 1.])\n",
      "[1. 1. 1. 1. 1.]\n",
      "<class 'numpy.ndarray'>\n",
      "tensor([2., 2., 2., 2., 2.])\n",
      "[2. 2. 2. 2. 2.]\n"
     ]
    }
   ],
   "source": [
    "a = torch.ones(5)\n",
    "print(a)\n",
    "b = a.numpy()\n",
    "print(b)\n",
    "print(type(b))\n",
    "\n",
    "a.add_(1)\n",
    "print(a)\n",
    "print(b)"
   ]
  },
  {
   "cell_type": "code",
   "execution_count": 41,
   "id": "8b880dad",
   "metadata": {},
   "outputs": [
    {
     "name": "stdout",
     "output_type": "stream",
     "text": [
      "[1. 1. 1. 1. 1.]\n",
      "tensor([1., 1., 1., 1., 1.], dtype=torch.float64)\n",
      "[2. 2. 2. 2. 2.]\n",
      "tensor([2., 2., 2., 2., 2.], dtype=torch.float64)\n"
     ]
    }
   ],
   "source": [
    "a = np.ones(5)\n",
    "print(a)\n",
    "b = torch.from_numpy(a)\n",
    "print(b)\n",
    "\n",
    "a += 1\n",
    "print(a)\n",
    "print(b)"
   ]
  },
  {
   "cell_type": "code",
   "execution_count": 43,
   "id": "06bea4ff",
   "metadata": {},
   "outputs": [],
   "source": [
    "if torch.cuda.is_available():\n",
    "    device = torch.device(\"cuda\")\n",
    "    x = torch.ones(5, device=device)\n",
    "    y = torch.ones(5)\n",
    "    y = y.to(device)\n",
    "    z = x + y\n",
    "#    z.numpy() # numpy only cpu\n",
    "    z = z.to(\"cpu\")"
   ]
  },
  {
   "cell_type": "code",
   "execution_count": 44,
   "id": "ccea7511",
   "metadata": {},
   "outputs": [
    {
     "name": "stdout",
     "output_type": "stream",
     "text": [
      "tensor([1., 1., 1., 1., 1.], requires_grad=True)\n"
     ]
    }
   ],
   "source": [
    "x = torch.ones(5, requires_grad=True)\n",
    "print(x)"
   ]
  },
  {
   "cell_type": "code",
   "execution_count": null,
   "id": "c170dcef",
   "metadata": {},
   "outputs": [],
   "source": []
  },
  {
   "cell_type": "code",
   "execution_count": null,
   "id": "9b977d49",
   "metadata": {},
   "outputs": [],
   "source": []
  },
  {
   "cell_type": "code",
   "execution_count": null,
   "id": "8b7425b1",
   "metadata": {},
   "outputs": [],
   "source": []
  }
 ],
 "metadata": {
  "kernelspec": {
   "display_name": "Python 3 (ipykernel)",
   "language": "python",
   "name": "python3"
  },
  "language_info": {
   "codemirror_mode": {
    "name": "ipython",
    "version": 3
   },
   "file_extension": ".py",
   "mimetype": "text/x-python",
   "name": "python",
   "nbconvert_exporter": "python",
   "pygments_lexer": "ipython3",
   "version": "3.9.12"
  }
 },
 "nbformat": 4,
 "nbformat_minor": 5
}
