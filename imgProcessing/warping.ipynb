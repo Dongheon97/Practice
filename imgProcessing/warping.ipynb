{
 "cells": [
  {
   "cell_type": "code",
   "execution_count": null,
   "id": "17563174",
   "metadata": {},
   "outputs": [],
   "source": [
    "import cv2\n",
    "import numpy as np\n",
    "import matplotlib.pyplot as plt"
   ]
  },
  {
   "cell_type": "code",
   "execution_count": null,
   "id": "ac7c8a93",
   "metadata": {},
   "outputs": [],
   "source": [
    "refFilename = \"/Users/dongheon97/Desktop/target.png\"\n",
    "im1 = cv2.imread(refFilename, cv2.IMREAD_COLOR)\n",
    "im1 = cv2.cvtColor(im1, cv2.COLOR_BGR2RGB)\n",
    "\n",
    "imFilename = \"/Users/dongheon97/Desktop/target_test1.jpg\"\n",
    "im2 = cv2.imread(imFilename, cv2.IMREAD_COLOR)\n",
    "im2 = cv2.cvtColor(im2, cv2.COLOR_BGR2RGB)"
   ]
  },
  {
   "cell_type": "code",
   "execution_count": null,
   "id": "4833ed51",
   "metadata": {},
   "outputs": [],
   "source": [
    "plt.figure(figsize=[20, 10]);\n",
    "plt.subplot(121); plt.axis('off'); plt.imshow(im1); plt.title(\"goal\")\n",
    "plt.subplot(122); plt.axis('off'); plt.imshow(im2); plt.title(\"camera\")"
   ]
  },
  {
   "cell_type": "code",
   "execution_count": null,
   "id": "506cbeba",
   "metadata": {},
   "outputs": [],
   "source": [
    "im1_gray = cv2.cvtColor(im1, cv2.COLOR_BGR2GRAY)\n",
    "im2_gray = cv2.cvtColor(im2, cv2.COLOR_BGR2GRAY)\n",
    "\n",
    "MAX_NUM_FEATURES=500\n",
    "orb = cv2.ORB_create(MAX_NUM_FEATURES)\n",
    "k1, d1 = orb.detectAndCompute(im1_gray, None)\n",
    "k2, d2 = orb.detectAndCompute(im2_gray, None)\n",
    "\n",
    "im1_display = cv2.drawKeypoints(im1, k1, outImage=np.array([]), color=(255, 0, 0), flags=cv2.DRAW_MATCHES_FLAGS_DRAW_RICH_KEYPOINTS)\n",
    "im2_display = cv2.drawKeypoints(im2, k2, outImage=np.array([]), color=(255, 0, 0), flags=cv2.DRAW_MATCHES_FLAGS_DRAW_RICH_KEYPOINTS)"
   ]
  },
  {
   "cell_type": "code",
   "execution_count": null,
   "id": "2e340e65",
   "metadata": {},
   "outputs": [],
   "source": [
    "plt.figure(figsize=[20, 10])\n",
    "plt.subplot(121); plt.axis('off'); plt.imshow(im1_display); plt.title('original')\n",
    "plt.subplot(122); plt.axis('off'); plt.imshow(im2_display); plt.title('camera')"
   ]
  },
  {
   "cell_type": "code",
   "execution_count": null,
   "id": "5e539e3b",
   "metadata": {},
   "outputs": [],
   "source": [
    "matcher = cv2.DescriptorMatcher_create(cv2.DESCRIPTOR_MATCHER_BRUTEFORCE_HAMMING)\n",
    "matches = list(matcher.match(d1, d2, None))\n",
    "\n",
    "matches.sort(key=lambda x: x.distance, reverse=False)\n",
    "\n",
    "numGoodMatches = int(len(matches) * 0.15)\n",
    "matches = matches[:numGoodMatches]"
   ]
  },
  {
   "cell_type": "code",
   "execution_count": null,
   "id": "81ac59b7",
   "metadata": {},
   "outputs": [],
   "source": [
    "im_matches = cv2.drawMatches(im1, k1, im2, k2, matches, None)\n",
    "\n",
    "plt.figure(figsize=[40, 10])\n",
    "plt.imshow(im_matches); plt.axis('off'); plt.title('original form');"
   ]
  },
  {
   "cell_type": "code",
   "execution_count": null,
   "id": "582ce426",
   "metadata": {},
   "outputs": [],
   "source": [
    "points1 = np.zeros((len(matches), 2), dtype=np.float32)\n",
    "points2 = np.zeros((len(matches), 2), dtype=np.float32)\n",
    "\n",
    "for i, match in enumerate(matches):\n",
    "    points1[i, :] = k1[match.queryIdx].pt\n",
    "    points2[i, :] = k2[match.trainIdx].pt\n",
    "    \n",
    "h, mask = cv2.findHomography(points2, points1, cv2.RANSAC)\n",
    "print(h)"
   ]
  },
  {
   "cell_type": "code",
   "execution_count": null,
   "id": "75e68ca0",
   "metadata": {},
   "outputs": [],
   "source": [
    "height, width, channels = im1.shape\n",
    "im2_reg = cv2.warpPerspective(im2, h, (width, height))\n",
    "\n",
    "plt.figure(figsize=[20, 10]);\n",
    "plt.subplot(121); plt.imshow(im1); plt.axis('off'); plt.title('goal')\n",
    "plt.subplot(122); plt.imshow(im2_reg); plt.axis('off'); plt.title('object')"
   ]
  },
  {
   "cell_type": "code",
   "execution_count": null,
   "id": "3a26a0c3",
   "metadata": {},
   "outputs": [],
   "source": []
  }
 ],
 "metadata": {
  "kernelspec": {
   "display_name": "Python 3 (ipykernel)",
   "language": "python",
   "name": "python3"
  },
  "language_info": {
   "codemirror_mode": {
    "name": "ipython",
    "version": 3
   },
   "file_extension": ".py",
   "mimetype": "text/x-python",
   "name": "python",
   "nbconvert_exporter": "python",
   "pygments_lexer": "ipython3",
   "version": "3.9.7"
  }
 },
 "nbformat": 4,
 "nbformat_minor": 5
}
