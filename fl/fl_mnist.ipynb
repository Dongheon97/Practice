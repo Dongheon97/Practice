{
 "cells": [
  {
   "cell_type": "markdown",
   "id": "161e32f2",
   "metadata": {},
   "source": [
    "<h1>Federated Learning using MNIST</h1>"
   ]
  },
  {
   "cell_type": "markdown",
   "id": "09795760",
   "metadata": {},
   "source": [
    "<h2>Centralized Training</h2>"
   ]
  },
  {
   "cell_type": "code",
   "execution_count": 1,
   "id": "5bddd989",
   "metadata": {},
   "outputs": [
    {
     "name": "stdout",
     "output_type": "stream",
     "text": [
      "Metal device set to: Apple M1 Max\n",
      "Epoch 1/5\n"
     ]
    },
    {
     "name": "stderr",
     "output_type": "stream",
     "text": [
      "2022-05-21 15:15:45.056276: I tensorflow/core/common_runtime/pluggable_device/pluggable_device_factory.cc:305] Could not identify NUMA node of platform GPU ID 0, defaulting to 0. Your kernel may not have been built with NUMA support.\n",
      "2022-05-21 15:15:45.056406: I tensorflow/core/common_runtime/pluggable_device/pluggable_device_factory.cc:271] Created TensorFlow device (/job:localhost/replica:0/task:0/device:GPU:0 with 0 MB memory) -> physical PluggableDevice (device: 0, name: METAL, pci bus id: <undefined>)\n",
      "2022-05-21 15:15:45.208493: W tensorflow/core/platform/profile_utils/cpu_utils.cc:128] Failed to get CPU frequency: 0 Hz\n"
     ]
    },
    {
     "name": "stdout",
     "output_type": "stream",
     "text": [
      "  14/1875 [..............................] - ETA: 7s - loss: 1.6236 - accuracy: 0.5268  "
     ]
    },
    {
     "name": "stderr",
     "output_type": "stream",
     "text": [
      "2022-05-21 15:15:45.338093: I tensorflow/core/grappler/optimizers/custom_graph_optimizer_registry.cc:113] Plugin optimizer for device_type GPU is enabled.\n"
     ]
    },
    {
     "name": "stdout",
     "output_type": "stream",
     "text": [
      "1875/1875 [==============================] - 7s 4ms/step - loss: 0.2008 - accuracy: 0.9405\n",
      "Epoch 2/5\n",
      "1875/1875 [==============================] - 7s 4ms/step - loss: 0.0797 - accuracy: 0.9754\n",
      "Epoch 3/5\n",
      "1875/1875 [==============================] - 7s 4ms/step - loss: 0.0528 - accuracy: 0.9841\n",
      "Epoch 4/5\n",
      "1875/1875 [==============================] - 7s 4ms/step - loss: 0.0372 - accuracy: 0.9878\n",
      "Epoch 5/5\n",
      "1875/1875 [==============================] - 7s 4ms/step - loss: 0.0270 - accuracy: 0.9910\n",
      " 43/313 [===>..........................] - ETA: 0s - loss: 0.1072 - accuracy: 0.9695"
     ]
    },
    {
     "name": "stderr",
     "output_type": "stream",
     "text": [
      "2022-05-21 15:16:21.446660: I tensorflow/core/grappler/optimizers/custom_graph_optimizer_registry.cc:113] Plugin optimizer for device_type GPU is enabled.\n"
     ]
    },
    {
     "name": "stdout",
     "output_type": "stream",
     "text": [
      "313/313 [==============================] - 1s 4ms/step - loss: 0.0784 - accuracy: 0.9758\n",
      "test loss:  0.07836448401212692\n",
      "test accuracy:  0.9758000373840332\n"
     ]
    }
   ],
   "source": [
    "import tensorflow as tf\n",
    "\n",
    "# Import Datasets\n",
    "mnist = tf.keras.datasets.mnist\n",
    "(data_train, label_train), (data_test, label_test) = mnist.load_data()\n",
    "\n",
    "# Data pre-processing\n",
    "data_train, data_test = data_train/255.0, data_test/255.0\n",
    "\n",
    "# Build model\n",
    "model = tf.keras.models.Sequential([\n",
    "    tf.keras.layers.Flatten(input_shape=(28, 28)),\n",
    "    tf.keras.layers.Dense(512, activation=tf.nn.relu),\n",
    "    tf.keras.layers.Dense(10, activation=tf.nn.softmax),\n",
    "])\n",
    "    \n",
    "# Compile model\n",
    "model.compile(optimizer='adam',\n",
    "             loss='sparse_categorical_crossentropy',\n",
    "             metrics=['accuracy'])\n",
    "\n",
    "# Train Model\n",
    "model.fit(data_train, label_train, epochs=5)\n",
    "\n",
    "# Get results\n",
    "test_loss, test_acc = model.evaluate(data_test, label_test)\n",
    "print(\"test loss: \", test_loss)\n",
    "print(\"test accuracy: \", test_acc)"
   ]
  },
  {
   "cell_type": "markdown",
   "id": "a4216bd8",
   "metadata": {},
   "source": [
    "<h2>Test \"get_weights\", \"set_weights\"</h2>"
   ]
  },
  {
   "cell_type": "code",
   "execution_count": 2,
   "id": "cfea2a36",
   "metadata": {},
   "outputs": [
    {
     "name": "stdout",
     "output_type": "stream",
     "text": [
      "[array([[-0.02964921,  0.01799724, -0.00025862, ...,  0.00495534,\n",
      "         0.0315336 , -0.06313174],\n",
      "       [ 0.06230609, -0.04954939,  0.05480339, ..., -0.0206655 ,\n",
      "         0.04888868,  0.06787175],\n",
      "       [ 0.03984915, -0.02480331,  0.0296289 , ...,  0.03744321,\n",
      "        -0.0378321 ,  0.02476066],\n",
      "       ...,\n",
      "       [-0.03260977, -0.06802543,  0.048971  , ...,  0.01924925,\n",
      "        -0.05154556, -0.01255806],\n",
      "       [ 0.01120001, -0.05747771,  0.00133567, ..., -0.01201348,\n",
      "         0.05898423, -0.00270942],\n",
      "       [-0.04028355,  0.01779348, -0.05213377, ...,  0.05570427,\n",
      "         0.0565781 ,  0.06019202]], dtype=float32), array([ 4.19299155e-02, -4.59218659e-02, -1.27966143e-02,  3.05585489e-02,\n",
      "        7.14712292e-02, -3.45433541e-02,  5.17631285e-02,  1.08995013e-01,\n",
      "       -3.82846072e-02, -3.06963101e-02, -1.75173506e-02, -3.38909067e-02,\n",
      "       -4.89388406e-02, -3.30282678e-03, -6.36641383e-02,  6.25861734e-02,\n",
      "        1.28506841e-02,  1.17554180e-02,  4.99538183e-02, -8.35589543e-02,\n",
      "        6.55410737e-02, -2.20486838e-02,  5.78421494e-03,  1.75855104e-02,\n",
      "        6.53001815e-02, -3.47362906e-02, -4.69167111e-03,  1.81951504e-02,\n",
      "       -2.63374131e-02,  7.98228849e-03,  3.01649515e-02, -4.13953587e-02,\n",
      "       -2.82948893e-02,  2.77885608e-02,  5.06152585e-03, -2.53590792e-02,\n",
      "       -2.69774720e-02, -2.12127194e-02, -3.00216433e-02,  5.33869751e-02,\n",
      "       -7.97116458e-02, -9.51991379e-02,  1.72762666e-02,  1.96018219e-02,\n",
      "        1.68024544e-02, -8.67675710e-03, -1.83282141e-02, -1.13168083e-01,\n",
      "        5.70686199e-02,  9.63320732e-02, -3.76450717e-02,  5.18141240e-02,\n",
      "       -3.18409316e-02, -5.79358116e-02,  3.63876000e-02,  9.25844163e-03,\n",
      "        4.57870811e-02, -1.26370639e-02,  8.48460570e-02,  2.92200129e-03,\n",
      "        4.35841866e-02,  3.33279669e-02, -2.34829225e-02,  7.04185292e-02,\n",
      "       -2.07067188e-02,  3.31474170e-02,  1.57754384e-02,  1.70752071e-02,\n",
      "       -4.40605134e-02,  3.38011570e-02, -1.40776020e-02,  5.96035495e-02,\n",
      "        4.61626425e-02, -1.94688123e-02, -3.50173488e-02, -1.43917566e-02,\n",
      "       -2.64976569e-03,  3.32134892e-03, -2.30070390e-02, -5.84229045e-02,\n",
      "        1.13330469e-01,  1.20848520e-02,  1.02672264e-01, -4.16607857e-02,\n",
      "        3.66900861e-02, -3.38035971e-02,  2.58006528e-02, -1.22115333e-02,\n",
      "       -5.88265806e-02, -1.30999424e-02, -9.61794481e-02, -3.65620852e-02,\n",
      "        1.50487181e-02,  2.66827773e-02, -1.98519882e-02, -6.27812669e-02,\n",
      "       -6.67131273e-03, -4.95717637e-02, -3.24617252e-02, -2.31951997e-02,\n",
      "       -4.03306298e-02,  6.05584718e-02,  6.12520501e-02,  5.31327203e-02,\n",
      "       -6.28757775e-02,  5.12006618e-02,  4.74126404e-03,  8.42145365e-03,\n",
      "       -4.34860624e-02, -1.44862086e-02,  5.99240139e-02, -6.73627928e-02,\n",
      "       -1.01783816e-02,  2.75537167e-02, -2.33982527e-03,  4.27315123e-02,\n",
      "        1.55676246e-01,  1.05797341e-02, -2.23163329e-03,  5.76264113e-02,\n",
      "        2.71664299e-02, -9.29694399e-02, -1.81132015e-02, -1.67328659e-02,\n",
      "       -5.83055615e-02,  1.54762631e-02,  3.57584953e-02, -2.20150314e-02,\n",
      "        6.51703030e-03,  2.00478151e-03, -5.51568670e-03,  1.41711710e-02,\n",
      "        2.71380488e-02, -8.43932629e-02, -4.99765426e-02,  6.00409368e-03,\n",
      "        6.18492700e-02,  1.51115190e-02,  2.35534683e-02, -1.01595700e-01,\n",
      "       -2.50875633e-02,  1.82413384e-02,  1.63288396e-02,  9.32382196e-02,\n",
      "       -7.66061805e-03,  4.69805114e-02, -3.39270569e-02,  5.87394647e-02,\n",
      "       -1.27752153e-02,  2.71348022e-02,  5.66265266e-03, -2.25701127e-02,\n",
      "       -6.15674891e-02,  1.37336608e-02, -5.28156683e-02, -6.04171529e-02,\n",
      "        4.13411036e-02, -3.15333940e-02,  1.30006820e-02, -4.28344794e-02,\n",
      "        2.22618738e-03,  4.59693745e-02,  5.93321174e-02,  3.29761580e-02,\n",
      "       -1.07506737e-02,  1.98262632e-02, -4.95735109e-02,  4.04380560e-02,\n",
      "       -2.07265816e-03, -1.29006142e-02, -3.67285386e-02,  3.47241722e-02,\n",
      "       -2.44390704e-02,  1.69707630e-02, -6.93758670e-03, -5.54645211e-02,\n",
      "        1.37299672e-01, -4.81738783e-02, -2.24077851e-02,  1.20292157e-02,\n",
      "        3.43307368e-02,  1.48702627e-02, -8.23375210e-02, -6.01079948e-02,\n",
      "       -4.23923358e-02,  3.12138014e-02, -9.59999263e-02,  8.08361024e-02,\n",
      "        3.61865200e-02, -9.98584628e-02, -1.30114832e-03, -3.13770361e-02,\n",
      "       -3.86391729e-02,  9.70440917e-03, -5.33108860e-02, -3.66941057e-02,\n",
      "       -1.04627348e-01, -2.29910966e-02,  1.71785150e-02, -6.19068816e-02,\n",
      "        2.98389383e-02, -1.28614148e-02,  3.44960280e-02,  2.55726036e-02,\n",
      "       -7.30859069e-03, -5.56303039e-02, -2.18225345e-02, -9.40766782e-02,\n",
      "       -5.33221522e-03, -5.21666668e-02,  3.78815979e-02,  2.05825130e-03,\n",
      "        2.55174916e-02, -3.93634550e-02,  3.66376005e-02, -3.43788154e-02,\n",
      "        4.61235009e-02,  5.72717749e-02,  1.30434940e-02,  2.35219747e-02,\n",
      "       -1.59302726e-02, -2.12361086e-02,  5.71100004e-02, -1.21802436e-02,\n",
      "        1.13433646e-02,  5.46508320e-02,  2.06641443e-02, -2.04684436e-02,\n",
      "        4.66029719e-02,  1.75587181e-02, -3.81862521e-02,  8.07390958e-02,\n",
      "        1.32187754e-02,  3.36248130e-02, -7.27643669e-02,  3.64820473e-02,\n",
      "        1.27433194e-02,  4.14888039e-02,  1.54609261e-02, -4.86058481e-02,\n",
      "        2.16801162e-03,  1.24568911e-03,  3.04533634e-02, -1.40809873e-02,\n",
      "        7.08302408e-02, -7.16228858e-02, -6.30626231e-02,  1.63290165e-02,\n",
      "        2.49360614e-02, -1.27019268e-02,  2.51784008e-02,  1.62437987e-02,\n",
      "       -4.90661971e-02, -2.14246865e-02,  6.91526979e-02, -7.35776965e-03,\n",
      "        7.66951442e-02,  8.62479582e-02,  4.30151209e-04,  7.04452395e-02,\n",
      "       -5.23777790e-02,  1.27629507e-02, -2.50615124e-02, -5.01882005e-03,\n",
      "        1.25349179e-01, -3.26270759e-02,  1.16453335e-01,  4.18699766e-03,\n",
      "       -3.99333723e-02,  1.49900569e-02, -9.90856960e-02, -3.93761834e-03,\n",
      "       -4.86069061e-02,  2.44134646e-02,  2.45075347e-03,  6.31745085e-02,\n",
      "        1.23560745e-02, -8.61747470e-03,  4.58783470e-03,  3.11721098e-02,\n",
      "       -1.31662175e-01,  8.53251014e-03, -8.77758488e-02,  3.52704376e-02,\n",
      "        4.15461212e-02,  3.11838556e-02, -1.05924206e-02,  1.31800234e-01,\n",
      "       -4.28821743e-02, -6.99180886e-02,  1.04029536e-01, -4.88082319e-02,\n",
      "        5.29740043e-02,  1.05901053e-02,  8.00452307e-02,  1.33909667e-02,\n",
      "       -1.45422062e-02,  5.85886538e-02, -3.13667906e-03,  8.68146569e-02,\n",
      "        2.86585763e-02, -3.91582027e-02, -1.18862968e-02,  1.22749610e-02,\n",
      "        4.94020544e-02, -5.66797890e-02,  2.76506897e-02, -5.32540008e-02,\n",
      "       -3.06335166e-02, -4.66431957e-03,  2.99143456e-02,  5.71616367e-02,\n",
      "       -3.64455543e-02, -3.21295597e-02,  9.33970138e-02,  3.39973345e-02,\n",
      "        1.63971052e-01, -2.02947129e-02,  4.06773128e-02,  9.70156044e-02,\n",
      "       -7.55614927e-03, -3.98627892e-02,  1.52661586e-02,  5.60566504e-03,\n",
      "       -6.91336440e-03,  3.62294763e-02, -5.71263246e-02, -1.71537008e-02,\n",
      "       -2.20738146e-02, -3.68311219e-02,  6.08104654e-02, -6.02112301e-02,\n",
      "        4.57813032e-02, -1.87370460e-02, -1.70180257e-02,  3.62660885e-02,\n",
      "        9.37964860e-03, -1.26609961e-02, -5.24382479e-02, -1.12941666e-02,\n",
      "       -2.36976240e-02, -1.04583940e-02,  6.56957626e-02,  4.41320576e-02,\n",
      "       -3.84880677e-02,  8.51064548e-02,  6.47217482e-02,  2.82953456e-02,\n",
      "        3.40658650e-02,  9.63950604e-02, -2.66364235e-02, -3.20522748e-02,\n",
      "        4.58289310e-02,  4.61728871e-02,  1.98113956e-02, -2.87622847e-02,\n",
      "        1.27492975e-02, -1.56079745e-02, -1.09775001e-02, -3.25468369e-02,\n",
      "        3.74809206e-02, -3.10651921e-02, -1.63870379e-02,  2.03842018e-02,\n",
      "        8.29795469e-03,  6.32698983e-02,  8.41512159e-02, -3.17242481e-02,\n",
      "       -1.87991560e-02,  5.30507788e-03,  7.07761049e-02,  9.42814630e-03,\n",
      "       -4.16065417e-02, -1.58389583e-02,  7.33864121e-03,  3.28343944e-03,\n",
      "        1.10005550e-02, -6.60172254e-02, -4.93538491e-02, -4.55955677e-02,\n",
      "        7.27712214e-02,  4.74607497e-02, -4.89161238e-02, -1.37712687e-01,\n",
      "        1.65725723e-02,  1.11947231e-01,  7.40564615e-02, -3.07190269e-02,\n",
      "        4.03683558e-02, -1.01508223e-01, -3.22492458e-02,  2.68093590e-02,\n",
      "       -4.94855642e-02,  7.36226365e-02, -3.84287164e-02,  2.67155394e-02,\n",
      "        2.85861325e-02,  2.99081393e-02,  6.51074126e-02, -1.77939665e-02,\n",
      "       -1.42421331e-02,  6.40692562e-03,  1.74611993e-02,  1.17248157e-02,\n",
      "       -2.11711656e-02, -5.44867776e-02, -6.07741475e-02,  9.32904519e-03,\n",
      "       -4.27616686e-02, -1.89263618e-03, -1.52580654e-02,  4.80536185e-02,\n",
      "        1.02811987e-02, -8.70463625e-03, -2.01289984e-03,  4.98006791e-02,\n",
      "        3.99106145e-02, -1.27024669e-03, -3.64315659e-02,  1.60563905e-02,\n",
      "       -1.98268946e-02, -4.81384248e-02,  3.57059054e-02, -2.16301624e-02,\n",
      "        1.22711230e-02, -1.14012696e-01,  1.77885941e-03, -8.44065007e-03,\n",
      "       -5.73737547e-02,  2.41972599e-02, -2.96646301e-02, -9.42353755e-02,\n",
      "        8.21116287e-03,  9.25764535e-03, -5.20176888e-02, -1.57166123e-05,\n",
      "        2.10754317e-03,  1.29028987e-02, -5.65779395e-02,  1.76725350e-02,\n",
      "        4.22785506e-02, -4.64649349e-02, -3.06540485e-02,  1.31824221e-02,\n",
      "       -1.37132788e-02,  1.75210312e-02,  1.12108197e-02,  7.05689490e-02,\n",
      "        1.38894701e-02, -4.34060767e-02, -4.36046114e-03,  1.16862029e-01,\n",
      "        4.38377447e-02, -4.87424992e-02, -7.68553838e-02,  6.28092438e-02,\n",
      "        7.39913359e-02, -3.56717855e-02,  4.65184962e-03,  5.46001177e-03,\n",
      "       -2.19796295e-03, -1.45454677e-02,  8.01491514e-02, -1.78164057e-02,\n",
      "        5.12674525e-02,  1.11354753e-01,  3.98732536e-02,  7.65587240e-02,\n",
      "       -1.73937604e-02, -1.38563082e-01,  5.86894341e-02, -1.82952080e-02,\n",
      "       -1.50237484e-02,  2.36206874e-02, -1.62777677e-02, -1.03055527e-02,\n",
      "        6.69988394e-02, -8.05775076e-02, -2.92188749e-02,  1.83505684e-01,\n",
      "       -2.51863133e-02,  1.19129987e-02, -4.64491285e-02,  7.41673410e-02,\n",
      "        7.78846145e-02, -6.29079491e-02, -1.45928264e-02, -3.57754603e-02,\n",
      "        3.51366550e-02, -6.18230030e-02, -4.44091894e-02,  3.41600664e-02,\n",
      "        1.88474618e-02,  1.06080612e-02,  1.14442356e-01,  5.17970882e-02,\n",
      "        3.03189047e-02, -1.56855467e-03, -5.18249497e-02, -1.07565885e-02,\n",
      "        5.51530682e-02,  8.38196501e-02, -5.79145513e-02, -2.60866638e-02,\n",
      "        3.04393973e-02, -3.28930956e-03,  5.55727631e-02, -6.89768698e-03,\n",
      "        2.42098328e-02, -1.07124098e-01,  4.30095606e-02,  1.95885953e-02],\n",
      "      dtype=float32), array([[-0.20339143, -0.28579637, -0.08434799, ...,  0.01133926,\n",
      "         0.00070262,  0.04957626],\n",
      "       [ 0.03648634, -0.0959563 , -0.01941775, ...,  0.03655669,\n",
      "         0.0633976 ,  0.04934426],\n",
      "       [-0.07488105, -0.08999521,  0.10723417, ...,  0.05815568,\n",
      "         0.07045112,  0.0771945 ],\n",
      "       ...,\n",
      "       [ 0.07555386, -0.01915221,  0.04537818, ...,  0.05201396,\n",
      "         0.10493027,  0.05735673],\n",
      "       [ 0.00290479, -0.1136285 ,  0.21568997, ..., -0.04126387,\n",
      "        -0.17703001, -0.20632881],\n",
      "       [ 0.13226277,  0.02033574, -0.08396193, ...,  0.18591222,\n",
      "        -0.16147865,  0.05802172]], dtype=float32), array([-0.06413992, -0.09342442,  0.00247081, -0.05020694,  0.02752057,\n",
      "        0.00785721, -0.02268646, -0.09999732,  0.19829097,  0.00363352],\n",
      "      dtype=float32)]\n"
     ]
    },
    {
     "name": "stdout",
     "output_type": "stream",
     "text": [
      "313/313 [==============================] - 1s 4ms/step - loss: 0.0784 - accuracy: 0.9758\n"
     ]
    }
   ],
   "source": [
    "weights = model.get_weights()\n",
    "print(weights)\n",
    "import sys\n",
    "print(sys.get)\n",
    "\n",
    "cp_model = tf.keras.models.Sequential([\n",
    "    tf.keras.layers.Flatten(input_shape=(28, 28)),\n",
    "    tf.keras.layers.Dense(512, activation=tf.nn.relu),\n",
    "    tf.keras.layers.Dense(10, activation=tf.nn.softmax),\n",
    "])\n",
    "\n",
    "cp_model.compile(optimizer='adam',\n",
    "             loss='sparse_categorical_crossentropy',\n",
    "             metrics=['accuracy'])\n",
    "\n",
    "cp_model.set_weights(weights)\n",
    "\n",
    "# Get results\n",
    "test_loss, test_acc = model.evaluate(data_test, label_test)\n",
    "# print(\"test loss: \", test_loss)\n",
    "# print(\"test accuracy: \", test_acc)"
   ]
  },
  {
   "cell_type": "markdown",
   "id": "ac89d0b7",
   "metadata": {},
   "source": [
    "<h2>Data Split 3 of Clients</h2>"
   ]
  },
  {
   "cell_type": "code",
   "execution_count": 3,
   "id": "31408c61",
   "metadata": {},
   "outputs": [
    {
     "name": "stdout",
     "output_type": "stream",
     "text": [
      "(20000, 28, 28) 20000\n",
      "(20000, 28, 28) 20000\n",
      "(20000, 28, 28) 20000\n"
     ]
    }
   ],
   "source": [
    "c1_data_train = data_train[:20000, :, :]\n",
    "c1_label_train = label_train[:20000]\n",
    "\n",
    "c2_data_train = data_train[20000:40000, :, :]\n",
    "c2_label_train = label_train[20000:40000]\n",
    "\n",
    "c3_data_train = data_train[40000:60000, :, :]\n",
    "c3_label_train = label_train[40000:]\n",
    "\n",
    "print(c1_data_train.shape, len(c1_label_train))\n",
    "print(c2_data_train.shape, len(c2_label_train))\n",
    "print(c3_data_train.shape, len(c3_label_train))"
   ]
  },
  {
   "cell_type": "markdown",
   "id": "ab58b9aa",
   "metadata": {},
   "source": [
    "<h2>Get Weights from Client 1</h2>"
   ]
  },
  {
   "cell_type": "code",
   "execution_count": 4,
   "id": "7c9e5b6f",
   "metadata": {},
   "outputs": [
    {
     "name": "stdout",
     "output_type": "stream",
     "text": [
      "Epoch 1/5\n",
      " 22/625 [>.............................] - ETA: 2s - loss: 1.3911 - accuracy: 0.6193"
     ]
    },
    {
     "name": "stderr",
     "output_type": "stream",
     "text": [
      "2022-05-21 15:16:24.117070: I tensorflow/core/grappler/optimizers/custom_graph_optimizer_registry.cc:113] Plugin optimizer for device_type GPU is enabled.\n"
     ]
    },
    {
     "name": "stdout",
     "output_type": "stream",
     "text": [
      "625/625 [==============================] - 3s 4ms/step - loss: 0.3186 - accuracy: 0.9083\n",
      "Epoch 2/5\n",
      "625/625 [==============================] - 2s 4ms/step - loss: 0.1301 - accuracy: 0.9614\n",
      "Epoch 3/5\n",
      "625/625 [==============================] - 2s 4ms/step - loss: 0.0799 - accuracy: 0.9765\n",
      "Epoch 4/5\n",
      "625/625 [==============================] - 2s 4ms/step - loss: 0.0504 - accuracy: 0.9856\n",
      "Epoch 5/5\n",
      "625/625 [==============================] - 2s 4ms/step - loss: 0.0349 - accuracy: 0.9901\n"
     ]
    }
   ],
   "source": [
    "# Train Client 1\n",
    "c1_model = tf.keras.models.Sequential([\n",
    "    tf.keras.layers.Flatten(input_shape=(28, 28)),\n",
    "    tf.keras.layers.Dense(512, activation=tf.nn.relu),\n",
    "    tf.keras.layers.Dense(10, activation=tf.nn.softmax),\n",
    "])\n",
    "\n",
    "c1_model.compile(optimizer='adam',\n",
    "             loss='sparse_categorical_crossentropy',\n",
    "             metrics=['accuracy'])\n",
    "\n",
    "c1_model.fit(c1_data_train, c1_label_train, epochs=5)\n",
    "\n",
    "c1_weights = c1_model.get_weights()"
   ]
  },
  {
   "cell_type": "markdown",
   "id": "2e024d3c",
   "metadata": {},
   "source": [
    "<h2>Get Weights from Client 2</h2>"
   ]
  },
  {
   "cell_type": "code",
   "execution_count": 5,
   "id": "305c8cab",
   "metadata": {},
   "outputs": [
    {
     "name": "stdout",
     "output_type": "stream",
     "text": [
      "Epoch 1/5\n",
      " 28/625 [>.............................] - ETA: 2s - loss: 1.1973 - accuracy: 0.6819"
     ]
    },
    {
     "name": "stderr",
     "output_type": "stream",
     "text": [
      "2022-05-21 15:16:36.276181: I tensorflow/core/grappler/optimizers/custom_graph_optimizer_registry.cc:113] Plugin optimizer for device_type GPU is enabled.\n"
     ]
    },
    {
     "name": "stdout",
     "output_type": "stream",
     "text": [
      "625/625 [==============================] - 3s 4ms/step - loss: 0.3285 - accuracy: 0.9066\n",
      "Epoch 2/5\n",
      "625/625 [==============================] - 2s 4ms/step - loss: 0.1359 - accuracy: 0.9590\n",
      "Epoch 3/5\n",
      "625/625 [==============================] - 2s 4ms/step - loss: 0.0832 - accuracy: 0.9759\n",
      "Epoch 4/5\n",
      "625/625 [==============================] - 2s 4ms/step - loss: 0.0546 - accuracy: 0.9844\n",
      "Epoch 5/5\n",
      "625/625 [==============================] - 2s 4ms/step - loss: 0.0385 - accuracy: 0.9895\n"
     ]
    }
   ],
   "source": [
    "# Train Client 2\n",
    "c2_model = tf.keras.models.Sequential([\n",
    "    tf.keras.layers.Flatten(input_shape=(28, 28)),\n",
    "    tf.keras.layers.Dense(512, activation=tf.nn.relu),\n",
    "    tf.keras.layers.Dense(10, activation=tf.nn.softmax),\n",
    "])\n",
    "\n",
    "c2_model.compile(optimizer='adam',\n",
    "             loss='sparse_categorical_crossentropy',\n",
    "             metrics=['accuracy'])\n",
    "\n",
    "c2_model.fit(c2_data_train, c2_label_train, epochs=5)\n",
    "\n",
    "c2_weights = c2_model.get_weights()"
   ]
  },
  {
   "cell_type": "markdown",
   "id": "aeca209c",
   "metadata": {},
   "source": [
    "<h2>Get Weights from Client 3</h2>"
   ]
  },
  {
   "cell_type": "code",
   "execution_count": 6,
   "id": "31fc7bdb",
   "metadata": {},
   "outputs": [
    {
     "name": "stdout",
     "output_type": "stream",
     "text": [
      "Epoch 1/5\n",
      " 40/625 [>.............................] - ETA: 2s - loss: 1.0140 - accuracy: 0.7188"
     ]
    },
    {
     "name": "stderr",
     "output_type": "stream",
     "text": [
      "2022-05-21 15:16:48.361958: I tensorflow/core/grappler/optimizers/custom_graph_optimizer_registry.cc:113] Plugin optimizer for device_type GPU is enabled.\n"
     ]
    },
    {
     "name": "stdout",
     "output_type": "stream",
     "text": [
      "625/625 [==============================] - 3s 4ms/step - loss: 0.3202 - accuracy: 0.9065\n",
      "Epoch 2/5\n",
      "625/625 [==============================] - 2s 4ms/step - loss: 0.1349 - accuracy: 0.9593\n",
      "Epoch 3/5\n",
      "625/625 [==============================] - 2s 4ms/step - loss: 0.0815 - accuracy: 0.9746\n",
      "Epoch 4/5\n",
      "625/625 [==============================] - 2s 4ms/step - loss: 0.0515 - accuracy: 0.9847\n",
      "Epoch 5/5\n",
      "625/625 [==============================] - 2s 4ms/step - loss: 0.0356 - accuracy: 0.9890\n"
     ]
    }
   ],
   "source": [
    "# Train Client 3\n",
    "c3_model = tf.keras.models.Sequential([\n",
    "    tf.keras.layers.Flatten(input_shape=(28, 28)),\n",
    "    tf.keras.layers.Dense(512, activation=tf.nn.relu),\n",
    "    tf.keras.layers.Dense(10, activation=tf.nn.softmax),\n",
    "])\n",
    "\n",
    "c3_model.compile(optimizer='adam',\n",
    "             loss='sparse_categorical_crossentropy',\n",
    "             metrics=['accuracy'])\n",
    "\n",
    "c3_model.fit(c3_data_train, c3_label_train, epochs=5)\n",
    "\n",
    "c3_weights = c3_model.get_weights()"
   ]
  },
  {
   "cell_type": "markdown",
   "id": "8da7cb80",
   "metadata": {},
   "source": [
    "<h2>Aggregation Weights</h2>"
   ]
  },
  {
   "cell_type": "code",
   "execution_count": 7,
   "id": "06633250",
   "metadata": {},
   "outputs": [
    {
     "name": "stdout",
     "output_type": "stream",
     "text": [
      " 13/313 [>.............................] - ETA: 1s - loss: 0.0678 - accuracy: 0.9808 "
     ]
    },
    {
     "name": "stderr",
     "output_type": "stream",
     "text": [
      "/var/folders/86/dxn6gj7x5jdcw5893s56tz2h0000gn/T/ipykernel_65909/4010025759.py:3: VisibleDeprecationWarning: Creating an ndarray from ragged nested sequences (which is a list-or-tuple of lists-or-tuples-or ndarrays with different lengths or shapes) is deprecated. If you meant to do this, you must specify 'dtype=object' when creating the ndarray.\n",
      "  agg_weights = (np.array(c1_weights) + np.array(c2_weights) + np.array(c3_weights)) / 3.0\n",
      "2022-05-21 15:17:00.450064: I tensorflow/core/grappler/optimizers/custom_graph_optimizer_registry.cc:113] Plugin optimizer for device_type GPU is enabled.\n"
     ]
    },
    {
     "name": "stdout",
     "output_type": "stream",
     "text": [
      "313/313 [==============================] - 1s 4ms/step - loss: 0.0855 - accuracy: 0.9737\n",
      "test loss:  0.08548560738563538\n",
      "test accuracy:  0.9737000465393066\n"
     ]
    }
   ],
   "source": [
    "import numpy as np\n",
    "\n",
    "agg_weights = (np.array(c1_weights) + np.array(c2_weights) + np.array(c3_weights)) / 3.0\n",
    "# agg_weights = (np.array(c1_weights) + np.array(c2_weights) + np.array(c3_weights)) / 3.0\n",
    "\n",
    "agg_model = tf.keras.models.Sequential([\n",
    "    tf.keras.layers.Flatten(input_shape=(28, 28)),\n",
    "    tf.keras.layers.Dense(512, activation=tf.nn.relu),\n",
    "    tf.keras.layers.Dense(10, activation=tf.nn.softmax),\n",
    "])\n",
    "\n",
    "agg_model.compile(optimizer='adam',\n",
    "             loss='sparse_categorical_crossentropy',\n",
    "             metrics=['accuracy'])\n",
    "\n",
    "agg_model.set_weights(agg_weights)\n",
    "\n",
    "# Get results\n",
    "test_loss, test_acc = agg_model.evaluate(data_test, label_test)\n",
    "print(\"test loss: \", test_loss)\n",
    "print(\"test accuracy: \", test_acc)"
   ]
  }
 ],
 "metadata": {
  "kernelspec": {
   "display_name": "Python 3 (ipykernel)",
   "language": "python",
   "name": "python3"
  },
  "language_info": {
   "codemirror_mode": {
    "name": "ipython",
    "version": 3
   },
   "file_extension": ".py",
   "mimetype": "text/x-python",
   "name": "python",
   "nbconvert_exporter": "python",
   "pygments_lexer": "ipython3",
   "version": "3.8.10"
  }
 },
 "nbformat": 4,
 "nbformat_minor": 5
}
