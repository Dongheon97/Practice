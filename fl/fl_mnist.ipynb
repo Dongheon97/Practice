{
 "cells": [
  {
   "cell_type": "markdown",
   "id": "161e32f2",
   "metadata": {},
   "source": [
    "<h1>Federated Learning using MNIST</h1>"
   ]
  },
  {
   "cell_type": "markdown",
   "id": "09795760",
   "metadata": {},
   "source": [
    "<h2>Centralized Training</h2>"
   ]
  },
  {
   "cell_type": "code",
   "execution_count": 1,
   "id": "5bddd989",
   "metadata": {},
   "outputs": [
    {
     "name": "stdout",
     "output_type": "stream",
     "text": [
      "Metal device set to: Apple M1 Max\n",
      "Epoch 1/5\n"
     ]
    },
    {
     "name": "stderr",
     "output_type": "stream",
     "text": [
      "2022-03-27 01:17:33.520198: I tensorflow/core/common_runtime/pluggable_device/pluggable_device_factory.cc:305] Could not identify NUMA node of platform GPU ID 0, defaulting to 0. Your kernel may not have been built with NUMA support.\n",
      "2022-03-27 01:17:33.520304: I tensorflow/core/common_runtime/pluggable_device/pluggable_device_factory.cc:271] Created TensorFlow device (/job:localhost/replica:0/task:0/device:GPU:0 with 0 MB memory) -> physical PluggableDevice (device: 0, name: METAL, pci bus id: <undefined>)\n",
      "2022-03-27 01:17:33.648937: W tensorflow/core/platform/profile_utils/cpu_utils.cc:128] Failed to get CPU frequency: 0 Hz\n"
     ]
    },
    {
     "name": "stdout",
     "output_type": "stream",
     "text": [
      "  25/1875 [..............................] - ETA: 8s - loss: 1.2110 - accuracy: 0.6600"
     ]
    },
    {
     "name": "stderr",
     "output_type": "stream",
     "text": [
      "2022-03-27 01:17:33.776840: I tensorflow/core/grappler/optimizers/custom_graph_optimizer_registry.cc:113] Plugin optimizer for device_type GPU is enabled.\n"
     ]
    },
    {
     "name": "stdout",
     "output_type": "stream",
     "text": [
      "1875/1875 [==============================] - 8s 4ms/step - loss: 0.2032 - accuracy: 0.9403\n",
      "Epoch 2/5\n",
      "1875/1875 [==============================] - 8s 4ms/step - loss: 0.0804 - accuracy: 0.9760\n",
      "Epoch 3/5\n",
      "1875/1875 [==============================] - 8s 4ms/step - loss: 0.0523 - accuracy: 0.9830\n",
      "Epoch 4/5\n",
      "1875/1875 [==============================] - 8s 4ms/step - loss: 0.0371 - accuracy: 0.9883\n",
      "Epoch 5/5\n",
      "1875/1875 [==============================] - 8s 4ms/step - loss: 0.0265 - accuracy: 0.9917\n",
      " 40/313 [==>...........................] - ETA: 1s - loss: 0.1044 - accuracy: 0.9688"
     ]
    },
    {
     "name": "stderr",
     "output_type": "stream",
     "text": [
      "2022-03-27 01:18:13.323594: I tensorflow/core/grappler/optimizers/custom_graph_optimizer_registry.cc:113] Plugin optimizer for device_type GPU is enabled.\n"
     ]
    },
    {
     "name": "stdout",
     "output_type": "stream",
     "text": [
      "313/313 [==============================] - 1s 4ms/step - loss: 0.0814 - accuracy: 0.9763\n",
      "test loss:  0.08135548233985901\n",
      "test accuracy:  0.976300060749054\n"
     ]
    }
   ],
   "source": [
    "import tensorflow as tf\n",
    "\n",
    "# Import Datasets\n",
    "mnist = tf.keras.datasets.mnist\n",
    "(data_train, label_train), (data_test, label_test) = mnist.load_data()\n",
    "\n",
    "# Data pre-processing\n",
    "data_train, data_test = data_train/255.0, data_test/255.0\n",
    "\n",
    "# Build model\n",
    "model = tf.keras.models.Sequential([\n",
    "    tf.keras.layers.Flatten(input_shape=(28, 28)),\n",
    "    tf.keras.layers.Dense(512, activation=tf.nn.relu),\n",
    "    tf.keras.layers.Dense(10, activation=tf.nn.softmax),\n",
    "])\n",
    "    \n",
    "# Compile model\n",
    "model.compile(optimizer='adam',\n",
    "             loss='sparse_categorical_crossentropy',\n",
    "             metrics=['accuracy'])\n",
    "\n",
    "# Train Model\n",
    "model.fit(data_train, label_train, epochs=5)\n",
    "\n",
    "# Get results\n",
    "test_loss, test_acc = model.evaluate(data_test, label_test)\n",
    "print(\"test loss: \", test_loss)\n",
    "print(\"test accuracy: \", test_acc)"
   ]
  },
  {
   "cell_type": "markdown",
   "id": "a4216bd8",
   "metadata": {},
   "source": [
    "<h2>Test \"get_weights\", \"set_weights\"</h2>"
   ]
  },
  {
   "cell_type": "code",
   "execution_count": 2,
   "id": "cfea2a36",
   "metadata": {},
   "outputs": [
    {
     "name": "stdout",
     "output_type": "stream",
     "text": [
      "313/313 [==============================] - 1s 4ms/step - loss: 0.0814 - accuracy: 0.9763\n",
      "test loss:  0.08135548233985901\n",
      "test accuracy:  0.976300060749054\n"
     ]
    }
   ],
   "source": [
    "weights = model.get_weights()\n",
    "\n",
    "cp_model = tf.keras.models.Sequential([\n",
    "    tf.keras.layers.Flatten(input_shape=(28, 28)),\n",
    "    tf.keras.layers.Dense(512, activation=tf.nn.relu),\n",
    "    tf.keras.layers.Dense(10, activation=tf.nn.softmax),\n",
    "])\n",
    "\n",
    "cp_model.compile(optimizer='adam',\n",
    "             loss='sparse_categorical_crossentropy',\n",
    "             metrics=['accuracy'])\n",
    "\n",
    "cp_model.set_weights(weights)\n",
    "\n",
    "# Get results\n",
    "test_loss, test_acc = model.evaluate(data_test, label_test)\n",
    "print(\"test loss: \", test_loss)\n",
    "print(\"test accuracy: \", test_acc)"
   ]
  },
  {
   "cell_type": "markdown",
   "id": "ac89d0b7",
   "metadata": {},
   "source": [
    "<h2>Data Split 3 of Clients</h2>"
   ]
  },
  {
   "cell_type": "code",
   "execution_count": 3,
   "id": "31408c61",
   "metadata": {},
   "outputs": [
    {
     "name": "stdout",
     "output_type": "stream",
     "text": [
      "(20000, 28, 28) 20000\n",
      "(20000, 28, 28) 20000\n",
      "(20000, 28, 28) 20000\n"
     ]
    }
   ],
   "source": [
    "c1_data_train = data_train[:20000, :, :]\n",
    "c1_label_train = label_train[:20000]\n",
    "\n",
    "c2_data_train = data_train[20000:40000, :, :]\n",
    "c2_label_train = label_train[20000:40000]\n",
    "\n",
    "c3_data_train = data_train[40000:60000, :, :]\n",
    "c3_label_train = label_train[40000:]\n",
    "\n",
    "print(c1_data_train.shape, len(c1_label_train))\n",
    "print(c2_data_train.shape, len(c2_label_train))\n",
    "print(c3_data_train.shape, len(c3_label_train))"
   ]
  },
  {
   "cell_type": "markdown",
   "id": "ab58b9aa",
   "metadata": {},
   "source": [
    "<h2>Get Weights from Client 1</h2>"
   ]
  },
  {
   "cell_type": "code",
   "execution_count": 4,
   "id": "7c9e5b6f",
   "metadata": {},
   "outputs": [
    {
     "name": "stdout",
     "output_type": "stream",
     "text": [
      "Epoch 1/5\n",
      "  7/625 [..............................] - ETA: 10s - loss: 1.9408 - accuracy: 0.4464"
     ]
    },
    {
     "name": "stderr",
     "output_type": "stream",
     "text": [
      "2022-03-27 01:18:16.111648: I tensorflow/core/grappler/optimizers/custom_graph_optimizer_registry.cc:113] Plugin optimizer for device_type GPU is enabled.\n"
     ]
    },
    {
     "name": "stdout",
     "output_type": "stream",
     "text": [
      "625/625 [==============================] - 3s 4ms/step - loss: 0.3158 - accuracy: 0.9082\n",
      "Epoch 2/5\n",
      "625/625 [==============================] - 3s 4ms/step - loss: 0.1310 - accuracy: 0.9607\n",
      "Epoch 3/5\n",
      "625/625 [==============================] - 3s 4ms/step - loss: 0.0748 - accuracy: 0.9787\n",
      "Epoch 4/5\n",
      "625/625 [==============================] - 3s 4ms/step - loss: 0.0505 - accuracy: 0.9857\n",
      "Epoch 5/5\n",
      "625/625 [==============================] - 3s 4ms/step - loss: 0.0343 - accuracy: 0.9902\n"
     ]
    }
   ],
   "source": [
    "# Train Client 1\n",
    "c1_model = tf.keras.models.Sequential([\n",
    "    tf.keras.layers.Flatten(input_shape=(28, 28)),\n",
    "    tf.keras.layers.Dense(512, activation=tf.nn.relu),\n",
    "    tf.keras.layers.Dense(10, activation=tf.nn.softmax),\n",
    "])\n",
    "\n",
    "c1_model.compile(optimizer='adam',\n",
    "             loss='sparse_categorical_crossentropy',\n",
    "             metrics=['accuracy'])\n",
    "\n",
    "c1_model.fit(c1_data_train, c1_label_train, epochs=5)\n",
    "\n",
    "c1_weights = c1_model.get_weights()"
   ]
  },
  {
   "cell_type": "markdown",
   "id": "2e024d3c",
   "metadata": {},
   "source": [
    "<h2>Get Weights from Client 2</h2>"
   ]
  },
  {
   "cell_type": "code",
   "execution_count": 5,
   "id": "305c8cab",
   "metadata": {},
   "outputs": [
    {
     "name": "stdout",
     "output_type": "stream",
     "text": [
      "Epoch 1/5\n",
      " 24/625 [>.............................] - ETA: 2s - loss: 1.2180 - accuracy: 0.6732"
     ]
    },
    {
     "name": "stderr",
     "output_type": "stream",
     "text": [
      "2022-03-27 01:18:29.588050: I tensorflow/core/grappler/optimizers/custom_graph_optimizer_registry.cc:113] Plugin optimizer for device_type GPU is enabled.\n"
     ]
    },
    {
     "name": "stdout",
     "output_type": "stream",
     "text": [
      "625/625 [==============================] - 3s 4ms/step - loss: 0.3203 - accuracy: 0.9067\n",
      "Epoch 2/5\n",
      "625/625 [==============================] - 3s 4ms/step - loss: 0.1338 - accuracy: 0.9598\n",
      "Epoch 3/5\n",
      "625/625 [==============================] - 3s 4ms/step - loss: 0.0833 - accuracy: 0.9748\n",
      "Epoch 4/5\n",
      "625/625 [==============================] - 3s 4ms/step - loss: 0.0539 - accuracy: 0.9841\n",
      "Epoch 5/5\n",
      "625/625 [==============================] - 3s 4ms/step - loss: 0.0373 - accuracy: 0.9889\n"
     ]
    }
   ],
   "source": [
    "# Train Client 2\n",
    "c2_model = tf.keras.models.Sequential([\n",
    "    tf.keras.layers.Flatten(input_shape=(28, 28)),\n",
    "    tf.keras.layers.Dense(512, activation=tf.nn.relu),\n",
    "    tf.keras.layers.Dense(10, activation=tf.nn.softmax),\n",
    "])\n",
    "\n",
    "c2_model.compile(optimizer='adam',\n",
    "             loss='sparse_categorical_crossentropy',\n",
    "             metrics=['accuracy'])\n",
    "\n",
    "c2_model.fit(c2_data_train, c2_label_train, epochs=5)\n",
    "\n",
    "c2_weights = c2_model.get_weights()"
   ]
  },
  {
   "cell_type": "markdown",
   "id": "aeca209c",
   "metadata": {},
   "source": [
    "<h2>Get Weights from Client 3</h2>"
   ]
  },
  {
   "cell_type": "code",
   "execution_count": 6,
   "id": "31fc7bdb",
   "metadata": {},
   "outputs": [
    {
     "name": "stdout",
     "output_type": "stream",
     "text": [
      "Epoch 1/5\n",
      " 25/625 [>.............................] - ETA: 2s - loss: 1.2495 - accuracy: 0.6413"
     ]
    },
    {
     "name": "stderr",
     "output_type": "stream",
     "text": [
      "2022-03-27 01:18:42.974892: I tensorflow/core/grappler/optimizers/custom_graph_optimizer_registry.cc:113] Plugin optimizer for device_type GPU is enabled.\n"
     ]
    },
    {
     "name": "stdout",
     "output_type": "stream",
     "text": [
      "625/625 [==============================] - 3s 4ms/step - loss: 0.3136 - accuracy: 0.9077\n",
      "Epoch 2/5\n",
      "625/625 [==============================] - 3s 4ms/step - loss: 0.1377 - accuracy: 0.9603\n",
      "Epoch 3/5\n",
      "625/625 [==============================] - 3s 4ms/step - loss: 0.0818 - accuracy: 0.9760\n",
      "Epoch 4/5\n",
      "625/625 [==============================] - 3s 4ms/step - loss: 0.0533 - accuracy: 0.9846\n",
      "Epoch 5/5\n",
      "625/625 [==============================] - 3s 4ms/step - loss: 0.0375 - accuracy: 0.9885\n"
     ]
    }
   ],
   "source": [
    "# Train Client 3\n",
    "c3_model = tf.keras.models.Sequential([\n",
    "    tf.keras.layers.Flatten(input_shape=(28, 28)),\n",
    "    tf.keras.layers.Dense(512, activation=tf.nn.relu),\n",
    "    tf.keras.layers.Dense(10, activation=tf.nn.softmax),\n",
    "])\n",
    "\n",
    "c3_model.compile(optimizer='adam',\n",
    "             loss='sparse_categorical_crossentropy',\n",
    "             metrics=['accuracy'])\n",
    "\n",
    "c3_model.fit(c3_data_train, c3_label_train, epochs=5)\n",
    "\n",
    "c3_weights = c3_model.get_weights()"
   ]
  },
  {
   "cell_type": "markdown",
   "id": "8da7cb80",
   "metadata": {},
   "source": [
    "<h2>Aggregation Weights</h2>"
   ]
  },
  {
   "cell_type": "code",
   "execution_count": 8,
   "id": "06633250",
   "metadata": {},
   "outputs": [
    {
     "name": "stdout",
     "output_type": "stream",
     "text": [
      " 13/313 [>.............................] - ETA: 1s - loss: 0.0514 - accuracy: 0.9832 "
     ]
    },
    {
     "name": "stderr",
     "output_type": "stream",
     "text": [
      "/var/folders/86/dxn6gj7x5jdcw5893s56tz2h0000gn/T/ipykernel_97547/4010025759.py:3: VisibleDeprecationWarning: Creating an ndarray from ragged nested sequences (which is a list-or-tuple of lists-or-tuples-or ndarrays with different lengths or shapes) is deprecated. If you meant to do this, you must specify 'dtype=object' when creating the ndarray.\n",
      "  agg_weights = (np.array(c1_weights) + np.array(c2_weights) + np.array(c3_weights)) / 3.0\n",
      "2022-03-27 01:18:56.326087: I tensorflow/core/grappler/optimizers/custom_graph_optimizer_registry.cc:113] Plugin optimizer for device_type GPU is enabled.\n"
     ]
    },
    {
     "name": "stdout",
     "output_type": "stream",
     "text": [
      "313/313 [==============================] - 1s 4ms/step - loss: 0.0839 - accuracy: 0.9737\n",
      "test loss:  0.08392113447189331\n",
      "test accuracy:  0.9737000465393066\n"
     ]
    }
   ],
   "source": [
    "import numpy as np\n",
    "\n",
    "agg_weights = (np.array(c1_weights) + np.array(c2_weights) + np.array(c3_weights)) / 3.0\n",
    "# agg_weights = (np.array(c1_weights) + np.array(c2_weights) + np.array(c3_weights)) / 3.0\n",
    "\n",
    "agg_model = tf.keras.models.Sequential([\n",
    "    tf.keras.layers.Flatten(input_shape=(28, 28)),\n",
    "    tf.keras.layers.Dense(512, activation=tf.nn.relu),\n",
    "    tf.keras.layers.Dense(10, activation=tf.nn.softmax),\n",
    "])\n",
    "\n",
    "agg_model.compile(optimizer='adam',\n",
    "             loss='sparse_categorical_crossentropy',\n",
    "             metrics=['accuracy'])\n",
    "\n",
    "agg_model.set_weights(agg_weights)\n",
    "\n",
    "# Get results\n",
    "test_loss, test_acc = agg_model.evaluate(data_test, label_test)\n",
    "print(\"test loss: \", test_loss)\n",
    "print(\"test accuracy: \", test_acc)"
   ]
  }
 ],
 "metadata": {
  "kernelspec": {
   "display_name": "Python 3 (ipykernel)",
   "language": "python",
   "name": "python3"
  },
  "language_info": {
   "codemirror_mode": {
    "name": "ipython",
    "version": 3
   },
   "file_extension": ".py",
   "mimetype": "text/x-python",
   "name": "python",
   "nbconvert_exporter": "python",
   "pygments_lexer": "ipython3",
   "version": "3.9.12"
  }
 },
 "nbformat": 4,
 "nbformat_minor": 5
}
