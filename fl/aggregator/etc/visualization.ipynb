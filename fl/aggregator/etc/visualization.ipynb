{
 "cells": [
  {
   "cell_type": "code",
   "execution_count": 1,
   "id": "c43c6806",
   "metadata": {},
   "outputs": [],
   "source": [
    "import os\n",
    "import pickle\n",
    "import copy"
   ]
  },
  {
   "cell_type": "code",
   "execution_count": 2,
   "id": "f00ce806",
   "metadata": {},
   "outputs": [],
   "source": [
    "def pickle_to_weights(filePath):\n",
    "        with open(filePath, 'rb') as inputfile:\n",
    "            weights = pickle.load(inputfile)\n",
    "        #logging.info(weights.keys())\n",
    "        #self.global_weights = weights\n",
    "        return weights"
   ]
  },
  {
   "cell_type": "code",
   "execution_count": 3,
   "id": "4eb4fae2",
   "metadata": {},
   "outputs": [
    {
     "name": "stdout",
     "output_type": "stream",
     "text": [
      "['1.pickle', '0.pickle']\n"
     ]
    }
   ],
   "source": [
    "dir_path = './dummy/'\n",
    "# get_file_list of Dir\n",
    "local_weights = []\n",
    "file_list = os.listdir(dir_path)\n",
    "print(file_list)"
   ]
  },
  {
   "cell_type": "code",
   "execution_count": 4,
   "id": "64f1eb02",
   "metadata": {},
   "outputs": [
    {
     "name": "stdout",
     "output_type": "stream",
     "text": [
      "2\n"
     ]
    }
   ],
   "source": [
    "client_num = len(file_list)\n",
    "#logging.info(\"Client_Num: {}\".format(client_num))\n",
    "print(client_num)\n",
    "\n",
    "for i in range(client_num):\n",
    "    file_path = dir_path + file_list[i]\n",
    "    local_weights.append(pickle_to_weights(file_path))\n",
    "w_avg = copy.deepcopy(local_weights[0])"
   ]
  },
  {
   "cell_type": "code",
   "execution_count": 5,
   "id": "9d03173a",
   "metadata": {},
   "outputs": [
    {
     "name": "stdout",
     "output_type": "stream",
     "text": [
      "odict_keys(['conv1.weight', 'conv1.bias', 'conv2.weight', 'conv2.bias', 'fc.0.weight', 'fc.0.bias', 'fc.2.weight', 'fc.2.bias'])\n",
      "tensor([-0.1049, -0.1380, -0.1168,  0.1144,  0.0616,  0.1235, -0.0822, -0.1212,\n",
      "         0.2011,  0.0148,  0.2000,  0.1725, -0.0608,  0.1232, -0.0297, -0.0013,\n",
      "         0.0760,  0.0236, -0.1900,  0.0271, -0.1402,  0.1873, -0.0111, -0.1859,\n",
      "        -0.0231,  0.1657, -0.0383,  0.1249, -0.0081,  0.1840,  0.0505, -0.0438],\n",
      "       device='cuda:0')\n",
      "tensor([-0.1473,  0.1246,  0.0123,  0.0049,  0.1223,  0.0728, -0.2065, -0.1815,\n",
      "        -0.0319,  0.1317,  0.0132,  0.0656, -0.1735,  0.0184,  0.1101,  0.0224,\n",
      "        -0.1114, -0.1762,  0.0078,  0.1100,  0.1704, -0.0937, -0.1865,  0.0907,\n",
      "        -0.0866,  0.0881, -0.0755,  0.1638,  0.1572, -0.0150, -0.0431,  0.1170],\n",
      "       device='cuda:0')\n"
     ]
    }
   ],
   "source": [
    "count=0\n",
    "print(w_avg.keys())\n",
    "for k in w_avg.keys():\n",
    "    if(count==1):\n",
    "        b0=local_weights[0][k]\n",
    "        b1=local_weights[1][k]\n",
    "    count += 1\n",
    "print(b0)\n",
    "print(b1)"
   ]
  },
  {
   "cell_type": "code",
   "execution_count": 6,
   "id": "598a5c5b",
   "metadata": {},
   "outputs": [
    {
     "name": "stdout",
     "output_type": "stream",
     "text": [
      "8\n",
      "tensor([-0.1261, -0.0067, -0.0522,  0.0596,  0.0920,  0.0982, -0.1444, -0.1513,\n",
      "         0.0846,  0.0732,  0.1066,  0.1191, -0.1172,  0.0708,  0.0402,  0.0105,\n",
      "        -0.0177, -0.0763, -0.0911,  0.0686,  0.0151,  0.0468, -0.0988, -0.0476,\n",
      "        -0.0549,  0.1269, -0.0569,  0.1443,  0.0746,  0.0845,  0.0037,  0.0366],\n",
      "       device='cuda:0')\n"
     ]
    }
   ],
   "source": [
    "print(len(w_avg.keys()))\n",
    "for k in w_avg.keys():\n",
    "    for i in range(1, client_num):\n",
    "        w_avg[k] += local_weights[i][k]\n",
    "        w_avg[k] /= float(client_num)\n",
    "    global_weights = w_avg\n",
    "print(global_weights['conv1.bias'])"
   ]
  },
  {
   "cell_type": "code",
   "execution_count": 7,
   "id": "f4d97125",
   "metadata": {},
   "outputs": [
    {
     "name": "stdout",
     "output_type": "stream",
     "text": [
      "tensor([-0.1261, -0.0067, -0.0522,  0.0596,  0.0920,  0.0982, -0.1444, -0.1513,\n",
      "         0.0846,  0.0732,  0.1066,  0.1191, -0.1172,  0.0708,  0.0402,  0.0105,\n",
      "        -0.0177, -0.0763, -0.0911,  0.0686,  0.0151,  0.0468, -0.0988, -0.0476,\n",
      "        -0.0549,  0.1269, -0.0569,  0.1443,  0.0746,  0.0845,  0.0037,  0.0366],\n",
      "       device='cuda:0')\n"
     ]
    }
   ],
   "source": [
    "test_cal = (b0+b1) / 2.0\n",
    "print(test_cal)"
   ]
  },
  {
   "cell_type": "code",
   "execution_count": null,
   "id": "25e56441",
   "metadata": {},
   "outputs": [],
   "source": []
  },
  {
   "cell_type": "code",
   "execution_count": null,
   "id": "470e1966",
   "metadata": {},
   "outputs": [],
   "source": []
  },
  {
   "cell_type": "code",
   "execution_count": null,
   "id": "cc839702",
   "metadata": {},
   "outputs": [],
   "source": []
  }
 ],
 "metadata": {
  "kernelspec": {
   "display_name": "Python 3 (ipykernel)",
   "language": "python",
   "name": "python3"
  },
  "language_info": {
   "codemirror_mode": {
    "name": "ipython",
    "version": 3
   },
   "file_extension": ".py",
   "mimetype": "text/x-python",
   "name": "python",
   "nbconvert_exporter": "python",
   "pygments_lexer": "ipython3",
   "version": "3.8.10"
  }
 },
 "nbformat": 4,
 "nbformat_minor": 5
}
