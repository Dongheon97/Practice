{
 "cells": [
  {
   "cell_type": "code",
   "execution_count": null,
   "id": "b52e590a",
   "metadata": {},
   "outputs": [],
   "source": [
    "# 1) Design Model (input size, output size, forward pass)\n",
    "# 2) Construct loss and optimizer\n",
    "# 3) Training loop\n",
    "#    - forward pass: compute predicition\n",
    "#    - backward pass: gradients\n",
    "#    - update weights"
   ]
  },
  {
   "cell_type": "code",
   "execution_count": 1,
   "id": "d44e5885",
   "metadata": {},
   "outputs": [],
   "source": [
    "import torch\n",
    "import torch.nn as nn"
   ]
  },
  {
   "cell_type": "code",
   "execution_count": 2,
   "id": "4b37f364",
   "metadata": {},
   "outputs": [
    {
     "name": "stdout",
     "output_type": "stream",
     "text": [
      "4 1\n"
     ]
    }
   ],
   "source": [
    "X = torch.tensor([[1], [2], [3], [4]], dtype=torch.float32)\n",
    "Y = torch.tensor([[2], [4], [6], [8]], dtype=torch.float32)\n",
    "\n",
    "X_test = torch.tensor([5], dtype=torch.float32)\n",
    "n_samples, n_features = X.shape\n",
    "print(n_samples, n_features)"
   ]
  },
  {
   "cell_type": "code",
   "execution_count": null,
   "id": "d75be82d",
   "metadata": {},
   "outputs": [],
   "source": [
    "# w = torch.tensor(0.0, dtype=torch.float32, requires_grad=True)\n",
    "\n",
    "# # model prediction\n",
    "# def forward(x):\n",
    "#     return w*x"
   ]
  },
  {
   "cell_type": "code",
   "execution_count": 3,
   "id": "5319c758",
   "metadata": {},
   "outputs": [],
   "source": [
    "# model prediction\n",
    "input_size = n_features\n",
    "output_size = n_features\n",
    "\n",
    "model = nn.Linear(input_size, output_size)"
   ]
  },
  {
   "cell_type": "code",
   "execution_count": 4,
   "id": "706a61bf",
   "metadata": {},
   "outputs": [],
   "source": [
    "class LinearRegression(nn.Module):\n",
    "    \n",
    "    def __init__(self, input_dim, output_dim):\n",
    "        super(LinearRegression, self).__init__()\n",
    "        \n",
    "        # define layers\n",
    "        self.lin = nn.Linear(input_dim, output_dim)\n",
    "        \n",
    "    def forward(self, x):\n",
    "        return self.lin(x)\n",
    "    \n",
    "model = LinearRegression(input_size, output_size)"
   ]
  },
  {
   "cell_type": "code",
   "execution_count": 5,
   "id": "96c73965",
   "metadata": {},
   "outputs": [
    {
     "name": "stdout",
     "output_type": "stream",
     "text": [
      "Prediction before training: f(5) = -5.483\n",
      "epoch 1: w = -0.466, loss = 76.77065277\n",
      "epoch 11: w = 1.543, loss = 1.99368989\n",
      "epoch 21: w = 1.868, loss = 0.05859769\n",
      "epoch 31: w = 1.922, loss = 0.00812389\n",
      "epoch 41: w = 1.932, loss = 0.00643340\n",
      "epoch 51: w = 1.935, loss = 0.00602745\n",
      "epoch 61: w = 1.937, loss = 0.00567582\n",
      "epoch 71: w = 1.939, loss = 0.00534543\n",
      "epoch 81: w = 1.941, loss = 0.00503429\n",
      "epoch 91: w = 1.943, loss = 0.00474128\n",
      "Prediction after training: f(5) = 9.885\n"
     ]
    }
   ],
   "source": [
    "print(f'Prediction before training: f(5) = {model(X_test).item():.3f}')\n",
    "\n",
    "# training\n",
    "learning_rate = 0.01\n",
    "n_iters = 100\n",
    "\n",
    "loss = nn.MSELoss()\n",
    "optimizer = torch.optim.SGD(model.parameters(), lr=learning_rate)\n",
    "\n",
    "for epoch in range(n_iters):\n",
    "    # prediction = forward pass\n",
    "    y_pred = model(X)\n",
    "    \n",
    "    # loss\n",
    "    l = loss(Y, y_pred)\n",
    "    \n",
    "    # gradients = backward pass\n",
    "    l.backward()\n",
    "    \n",
    "    # update weights\n",
    "    optimizer.step()\n",
    "    \n",
    "    # zero gradients\n",
    "    optimizer.zero_grad()\n",
    "    \n",
    "    if epoch % 10 == 0:\n",
    "        [w, b] = model.parameters()\n",
    "        print(f'epoch {epoch+1}: w = {w[0][0].item():.3f}, loss = {l:.8f}')\n",
    "    \n",
    "print(f'Prediction after training: f(5) = {model(X_test).item():.3f}')"
   ]
  },
  {
   "cell_type": "code",
   "execution_count": null,
   "id": "90fd1d63",
   "metadata": {},
   "outputs": [],
   "source": []
  }
 ],
 "metadata": {
  "kernelspec": {
   "display_name": "Python 3 (ipykernel)",
   "language": "python",
   "name": "python3"
  },
  "language_info": {
   "codemirror_mode": {
    "name": "ipython",
    "version": 3
   },
   "file_extension": ".py",
   "mimetype": "text/x-python",
   "name": "python",
   "nbconvert_exporter": "python",
   "pygments_lexer": "ipython3",
   "version": "3.9.12"
  }
 },
 "nbformat": 4,
 "nbformat_minor": 5
}
